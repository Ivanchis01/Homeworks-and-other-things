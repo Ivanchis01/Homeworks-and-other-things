{
  "nbformat": 4,
  "nbformat_minor": 0,
  "metadata": {
    "colab": {
      "provenance": [],
      "authorship_tag": "ABX9TyNfdYBeW0mluMJ9onCqVxJ3",
      "include_colab_link": true
    },
    "kernelspec": {
      "name": "python3",
      "display_name": "Python 3"
    },
    "language_info": {
      "name": "python"
    }
  },
  "cells": [
    {
      "cell_type": "markdown",
      "metadata": {
        "id": "view-in-github",
        "colab_type": "text"
      },
      "source": [
        "<a href=\"https://colab.research.google.com/github/Ivanchis01/Homeworks-and-other-things/blob/main/AbstractAlgebra.ipynb\" target=\"_parent\"><img src=\"https://colab.research.google.com/assets/colab-badge.svg\" alt=\"Open In Colab\"/></a>"
      ]
    },
    {
      "cell_type": "markdown",
      "source": [
        "ENCONTRAR PUNTOS DE LA CURVA ELÍPTICA"
      ],
      "metadata": {
        "id": "pCSRMMFKTrbr"
      }
    },
    {
      "cell_type": "code",
      "source": [
        "#Probado con el ejemplo de la clase\n",
        "class Node:\n",
        "    # Constructor to create a new node\n",
        "    def __init__(self, key, value):\n",
        "        self.key = key\n",
        "        self.value = value\n",
        "        self.left = None\n",
        "        self.right = None\n",
        "\n",
        "# A utility function to insert\n",
        "# a new node with the given key in BST\n",
        "def insert(node, key,y):\n",
        "    # If the tree is empty, return a new node\n",
        "    if node is None:\n",
        "        return Node(key,y)\n",
        "\n",
        "    # Otherwise, recur down the tree\n",
        "    if key < node.key:\n",
        "        node.left = insert(node.left, key,y)\n",
        "    elif key > node.key:\n",
        "        node.right = insert(node.right, key,y)\n",
        "\n",
        "    # Return the (unchanged) node pointer\n",
        "    return node\n",
        "\n",
        "# Utility function to search a key in a BST\n",
        "def search(root, key):\n",
        "    # Base Cases: root is null or key is present at root\n",
        "    if root is None or root.key == key:\n",
        "        return root\n",
        "\n",
        "    # Key is greater than root's key\n",
        "    if root.key < key:\n",
        "        return search(root.right, key)\n",
        "\n",
        "    # Key is smaller than root's key\n",
        "    return search(root.left, key)\n",
        "\n",
        "\n",
        "\n",
        "def hallarPuntos(p,b,root):\n",
        "  print(\"Puntos de la clase: \\n\")\n",
        "  div2=int((p-1)/2)\n",
        "  div4=int((p+1)/4)\n",
        "  for i in range(0,p):\n",
        "    qy=int((pow(int(i),3)+(int(i))+int(b))%int(p))\n",
        "    qr=int(pow(int(qy),div2,int(p)))\n",
        "    if qr==1:\n",
        "      if root==None:\n",
        "        y=int(pow(int(qy),div4,int(p)))\n",
        "        root=insert(root,qy,y)\n",
        "      nodeSearch = search(root,qr)\n",
        "      if nodeSearch is None:\n",
        "        y=int(pow(int(qy),div4,int(p)))\n",
        "        root=insert(root,qy,y)\n",
        "      else:\n",
        "        y=nodeSearch.value\n",
        "      print('[',i,',',y,']')\n",
        "      print('[',i,',',p-y,']')\n",
        "  return 0\n",
        "\n",
        "root = None\n",
        "puntos=hallarPuntos(11,2,root)"
      ],
      "metadata": {
        "colab": {
          "base_uri": "https://localhost:8080/"
        },
        "id": "XLMz0fh4gh2d",
        "outputId": "be523827-b158-42ef-f5a8-0a946255bc3b"
      },
      "execution_count": null,
      "outputs": [
        {
          "output_type": "stream",
          "name": "stdout",
          "text": [
            "Puntos de la clase: \n",
            "\n",
            "[ 1 , 9 ]\n",
            "[ 1 , 2 ]\n",
            "[ 2 , 1 ]\n",
            "[ 2 , 10 ]\n",
            "[ 4 , 1 ]\n",
            "[ 4 , 10 ]\n",
            "[ 6 , 1 ]\n",
            "[ 6 , 10 ]\n",
            "[ 8 , 1 ]\n",
            "[ 8 , 10 ]\n",
            "[ 9 , 1 ]\n",
            "[ 9 , 10 ]\n"
          ]
        }
      ]
    },
    {
      "cell_type": "markdown",
      "source": [
        "ENCONTRAR PUNTOS DE LA CURVA ELÍPTICA P-192 Y SUMAR PUNTOS"
      ],
      "metadata": {
        "id": "OfydobS-Tk8a"
      }
    },
    {
      "cell_type": "code",
      "execution_count": null,
      "metadata": {
        "id": "8frNrtHJa7IM"
      },
      "outputs": [],
      "source": [
        "#modulo: 6277101735386680763835789423207666416083908700390324961279\n",
        "\n",
        "#b: 64210519e59c80e70fa7e9ab72243049feb8deecc146b9b1\n",
        "#2455155546008943817740293915197451784769108058161191238065\n",
        "\n",
        "#Punto 1: (188da80eb03090f67cbf20eb43a18800f4ff0afd82ff1012,07192b95ffc8da78631011ed6b24cdd573f977a11e794811)\n",
        "#(602046282375688656758213480587526111916698976636884684818,174050332293622031404857552280219410364023488927386650641)\n",
        "\n",
        "#Formula: y^{2}≡ x^{3} – 3x + b (mod p)\n",
        "\n",
        "\n",
        "class Node:\n",
        "    # Constructor to create a new node\n",
        "    def __init__(self, key, value):\n",
        "        self.key = key\n",
        "        self.value = value\n",
        "        self.left = None\n",
        "        self.right = None\n",
        "\n",
        "# A utility function to insert\n",
        "# a new node with the given key in BST\n",
        "def insert(node, key,y):\n",
        "    # If the tree is empty, return a new node\n",
        "    if node is None:\n",
        "        return Node(key,y)\n",
        "\n",
        "    # Otherwise, recur down the tree\n",
        "    if key < node.key:\n",
        "        node.left = insert(node.left, key,y)\n",
        "    elif key > node.key:\n",
        "        node.right = insert(node.right, key,y)\n",
        "\n",
        "    # Return the (unchanged) node pointer\n",
        "    return node\n",
        "\n",
        "# Utility function to search a key in a BST\n",
        "def search(root, key):\n",
        "    # Base Cases: root is null or key is present at root\n",
        "    if root is None or root.key == key:\n",
        "        return root\n",
        "\n",
        "    # Key is greater than root's key\n",
        "    if root.key < key:\n",
        "        return search(root.right, key)\n",
        "\n",
        "    # Key is smaller than root's key\n",
        "    return search(root.left, key)\n",
        "\n",
        "\n",
        "\n",
        "def hallarPuntos(p,b,a,root):\n",
        "  print(\"Puntos de P-192: \\n\")\n",
        "  div2=int((p-1)/2)\n",
        "  div4=int((p+1)/4)\n",
        "  #puntos=[]\n",
        "  for i in range(0,p):\n",
        "    qy=int((pow(int(i),3)+(a*int(i))+int(b))%int(p))\n",
        "    qr=int(pow(int(qy),div2,int(p)))\n",
        "    #print(len(str(int(i))))\n",
        "    if qr==1:\n",
        "      if root==None:\n",
        "        y=int(pow(int(qy),div4,int(p)))\n",
        "        root=insert(root,qy,y)\n",
        "      nodeSearch = search(root,qr)\n",
        "      if nodeSearch is None:\n",
        "        y=int(pow(int(qy),div4,int(p)))\n",
        "        root=insert(root,qy,y)\n",
        "      else:\n",
        "        y=nodeSearch.value\n",
        "      print('[',i,',',y,']')\n",
        "      print('[',i,',',p-y,']')\n",
        "  return 0\n",
        "\n",
        "root = None\n",
        "puntos=hallarPuntos(6277101735386680763835789423207666416083908700390324961279,2455155546008943817740293915197451784769108058161191238065,-3,root)\n",
        "\n"
      ]
    },
    {
      "cell_type": "code",
      "source": [
        "from posixpath import pardir\n",
        "#modulo: 6277101735386680763835789423207666416083908700390324961279\n",
        "#n: 6277101735386680763835789423176059013767194773182842284081\n",
        "\n",
        "#b: 64210519e59c80e70fa7e9ab72243049feb8deecc146b9b1 satisfying b^{2}*c ≡ –27 (mod p))\n",
        "#2455155546008943817740293915197451784769108058161191238065\n",
        "\n",
        "#c: 3099d2bbbfcb2538542dcd5fb078b6ef5f3d6fe2c745de65\n",
        "#1191689908718309326471930603292001425137626342642504031845\n",
        "\n",
        "#Punto 1: (188da80eb03090f67cbf20eb43a18800f4ff0afd82ff1012,07192b95ffc8da78631011ed6b24cdd573f977a11e794811)\n",
        "#(602046282375688656758213480587526111916698976636884684818,174050332293622031404857552280219410364023488927386650641)\n",
        "\n",
        "#Formula: y^{2}≡ x^{3} – 3x + b (mod p) ==> a=-3\n",
        "\n",
        "def modInverse(a, m) :\n",
        "    m0 = m\n",
        "    y = 0\n",
        "    x = 1\n",
        "    while (a > 1) :\n",
        "        q = a // m\n",
        "        t = m\n",
        "        m = a % m\n",
        "        a = t\n",
        "        t = y\n",
        "        y = x - q * y\n",
        "        x = t\n",
        "    if (x < 0) :\n",
        "        x = x + m0\n",
        "    return x\n",
        "\n",
        "def funclambda1(x1,y1,x2,y2,a,p,puntos):\n",
        "  lambda1=0\n",
        "  if(puntos==\"iguales\"):\n",
        "    num=((3*(x1**2) + a)%p)\n",
        "    den=(modInverse((2*y1)%p,p))\n",
        "    lambda1=(num*den)%p\n",
        "  elif(puntos!=\"iguales\"):\n",
        "    num=(y2-y1)%p\n",
        "    den=modInverse((x2-x1)%p,p)\n",
        "    lambda1=(num*den)%p\n",
        "  return(lambda1)\n",
        "\n",
        "def sumaspuntos(x1,y1,x2,y2,a,p):\n",
        "  puntos=\"no\"\n",
        "  if(x1==x2 and y1==y2):\n",
        "    puntos=\"iguales\"\n",
        "  lambda1=funclambda1(x1,y1,x2,y2,a,p,puntos)\n",
        "  x3= ((lambda1**2)-x1-x2)%p\n",
        "  y3=(lambda1*(x1-x3)-y1) %p\n",
        "  return(x3,y3)\n",
        "\n",
        "def encontrarPuntos(x1,y1,a,p):\n",
        "  puntos=[]\n",
        "  puntos.append([x1,y1])\n",
        "  x2,y2=sumaspuntos(x1,y1,x1,y1,a,p)\n",
        "  puntos.append([x2,y2])\n",
        "  print(\"Punto 1 = (\",x1,\",\",y1,\")\")\n",
        "  print(\"Punto 2 = (\",x2,\",\",y2,\")\")\n",
        "  xaux1,yaux1=x1,y1\n",
        "  xaux2,yaux2=x2,y2\n",
        "  i=3\n",
        "  while(True):\n",
        "    x3,y3 = sumaspuntos(xaux1,yaux1,xaux2,yaux2,a,p)\n",
        "    xaux2,yaux2=x3,y3\n",
        "    if([x3,y3] in puntos):\n",
        "      break\n",
        "    puntos.append([x3,y3])\n",
        "    print(\"Punto\",i,\"=\",\"(\",x3,\",\",y3,\")\")\n",
        "    i+=1\n",
        "  return(\":D\")\n",
        "#x1=602046282375688656758213480587526111916698976636884684818\n",
        "#y1=174050332293622031404857552280219410364023488927386650641\n",
        "#a=-3\n",
        "#p=6277101735386680763835789423207666416083908700390324961279\n",
        "#encontrarPuntos(x1,y1,a,p)\n",
        "#P=(X1,Y1), Q=(X2,Y2), P+Q=(X3,Y3)\n",
        "\n",
        "\n",
        "x1=2\n",
        "y1=10\n",
        "a=1\n",
        "p=11\n",
        "encontrarPuntos(x1,y1,a,p)\n",
        "#Puntos de la clase: (PROBADO Y FUNCIONANDO)\n",
        "#Punto 1 = ( 2 , 7 )\n",
        "#Punto 2 = ( 5 , 2 )\n",
        "#Punto 3 = ( 8 , 3 )\n",
        "#Punto 4 = ( 10 , 2 )\n",
        "#Punto 5 = ( 3 , 6 )\n",
        "#Punto 6 = ( 7 , 9 )\n",
        "#Punto 7 = ( 7 , 2 )\n",
        "#Punto 8 = ( 3 , 5 )\n",
        "#Punto 9 = ( 10 , 9 )\n",
        "#Punto 10 = ( 8 , 8 )\n",
        "#Punto 11 = ( 5 , 9 )\n",
        "#Punto 12 = ( 2 , 4\n",
        "\n",
        "\n",
        "\n",
        "\n",
        "##EN TOTAL P-192 tiene 6277101735386680763835789423176059013767194773182842284081 puntos, computacionalmente es imposible calcularlos todos en un computador personal"
      ],
      "metadata": {
        "id": "mrFAqh2yT0xT"
      },
      "execution_count": null,
      "outputs": []
    },
    {
      "cell_type": "markdown",
      "source": [
        "SIMBOLO DE JACOBI y Legendre"
      ],
      "metadata": {
        "id": "xhmuYzgOThtc"
      }
    },
    {
      "cell_type": "code",
      "source": [
        "#Probado con el ejemplo de la clase\n",
        "#Simbolo de Jacobi\n",
        "def legendre(a,p):\n",
        "    e = (p - 1) // 2\n",
        "    results = pow(a, e, p)\n",
        "\n",
        "    if results-p==-1:\n",
        "      print(a, \"no es residuo cuadrático modulo\",p )\n",
        "      return\n",
        "    else:\n",
        "      for i in range(1,p+1):\n",
        "        results = pow(i, 2, p)\n",
        "        if(a==results):\n",
        "          print(a, \"es residuo cuadrático modulo\",p,\"pues\",i,\"elevado a la 2 es igual a\",a )\n",
        "          return\n",
        "\n",
        "def jacobi(a,n):\n",
        "\n",
        "    simbolo = 0\n",
        "    residuo = 0\n",
        "\n",
        "    if a == 0:\n",
        "        if n == 1:\n",
        "            simbolo = 1\n",
        "        else:\n",
        "            simbolo = 0\n",
        "    elif a == 2:\n",
        "        residuo = n%8\n",
        "        if residuo == 7 or residuo == 1:\n",
        "            simbolo = 1\n",
        "        if residuo == 5 or residuo == 3:\n",
        "            simbolo = -1\n",
        "\n",
        "    elif a >= n:\n",
        "        simbolo = jacobi(a%n, n)\n",
        "    elif a%2 == 0:\n",
        "        simbolo = jacobi(2,n)*jacobi(a/2,n)\n",
        "    else:\n",
        "        if a%4 == 3 and n%4 == 3:\n",
        "            simbolo = -jacobi(n,a)\n",
        "        else:\n",
        "            simbolo = jacobi(n,a)\n",
        "\n",
        "    return simbolo\n",
        "a=7411\n",
        "n=9283\n",
        "print(\"Simbolo de jacobi de (\",a,n,\")=\" ,jacobi(a,n))\n",
        "a=5\n",
        "p=7\n",
        "legendre(a,p)"
      ],
      "metadata": {
        "colab": {
          "base_uri": "https://localhost:8080/"
        },
        "id": "UZw7HO5yVZNI",
        "outputId": "a47dc5ca-ecd2-4f0b-9e9f-ef5480d582d7"
      },
      "execution_count": null,
      "outputs": [
        {
          "output_type": "stream",
          "name": "stdout",
          "text": [
            "Simbolo de jacobi de ( 7411 9283 )= -1\n",
            "5 no es residuo cuadrático modulo 7\n"
          ]
        }
      ]
    },
    {
      "cell_type": "markdown",
      "source": [
        "Teorema chino del residuo"
      ],
      "metadata": {
        "id": "gk5fv_bV3NNQ"
      }
    },
    {
      "cell_type": "code",
      "source": [
        "def tChino(a1,a2, p, q):\n",
        "        n = p * q\n",
        "        n1=p\n",
        "        n2=q\n",
        "        N1=q\n",
        "        N2=p\n",
        "        M1=modInverse(N1,n1)\n",
        "        M2=modInverse(N2,n2)\n",
        "        x=(a1*N1*M1 + a2*N2*M2)%(n)\n",
        "        print(\"Solución de x=\",x)\n",
        "        return\n",
        "\n",
        "tChino(4,1,7,11) ##Ejemplo de la clase\n",
        "\n"
      ],
      "metadata": {
        "colab": {
          "base_uri": "https://localhost:8080/"
        },
        "id": "Co9U1VCM3P5q",
        "outputId": "a1aea395-621b-4aca-8ed5-013715779d0e"
      },
      "execution_count": null,
      "outputs": [
        {
          "output_type": "stream",
          "name": "stdout",
          "text": [
            "Solución de x= 67\n"
          ]
        }
      ]
    },
    {
      "cell_type": "markdown",
      "source": [
        "Sistema criptográfico de Rabin"
      ],
      "metadata": {
        "id": "NSAX3S-Kzddh"
      }
    },
    {
      "cell_type": "code",
      "source": [
        "import math\n",
        "import random\n",
        "\n",
        "def modInverse(a, m) :\n",
        "    m0 = m\n",
        "    y = 0\n",
        "    x = 1\n",
        "    while (a > 1) :\n",
        "        q = a // m\n",
        "        t = m\n",
        "        m = a % m\n",
        "        a = t\n",
        "        t = y\n",
        "        y = x - q * y\n",
        "        x = t\n",
        "    if (x < 0) :\n",
        "        x = x + m0\n",
        "    return x\n",
        "\n",
        "def tChino(a1,a2,a3,a4,a5,a6,a7,a8, p, q):\n",
        "        n = p * q\n",
        "        n1=p\n",
        "        n2=q\n",
        "        N1=q\n",
        "        N2=p\n",
        "        M1=modInverse(N1,n1)\n",
        "        M2=modInverse(N2,n2)\n",
        "        x1=(a1*N1*M1 + a2*N2*M2)%(n)\n",
        "        x2=(a3*N1*M1 + a4*N2*M2)%(n)\n",
        "        x3=(a5*N1*M1 + a6*N2*M2)%(n)\n",
        "        x4=(a7*N1*M1 + a8*N2*M2)%(n)\n",
        "        return(x1,x2,x3,x4)\n",
        "\n",
        "def rabin(B,y,n,p,q):\n",
        "    sum1=(modInverse(2,n)*(-B)) %n\n",
        "    raiz=((((modInverse(4,n))*(B**2))%n)+y) %n\n",
        "    e1=int((1/4)*(p+1))\n",
        "    e2=int((1/4)*(q+1))\n",
        "    raiz1=pow(raiz,e1,p)\n",
        "    raiz2=pow(raiz,e1,q)\n",
        "    a1,a2=raiz1,raiz2\n",
        "    a3,a4=raiz1,-raiz2\n",
        "    a5,a6=-raiz1,raiz2\n",
        "    a7,a8=-raiz1,-raiz2\n",
        "\n",
        "    x1,x2,x3,x4=tChino(a1,a2,a3,a4,a5,a6,a7,a8, p, q)\n",
        "    x1=(x1+sum1)%n\n",
        "    x2=(x2+sum1)%n\n",
        "    x3=(x3+sum1)%n\n",
        "    x4=(x4+sum1)%n\n",
        "    print(\"Opcion 1:\",x1,\"\\nOpcion 2:\",x2,\"\\nOpcion 3:\",x3,\"\\nOpcion 4:\",x4)\n",
        "\n",
        "rabin(9,22,77,7,11)  ##EJEMPLO HECHO EN CLASE"
      ],
      "metadata": {
        "colab": {
          "base_uri": "https://localhost:8080/"
        },
        "id": "PoVsELBQzf7p",
        "outputId": "519655d4-7f9a-4614-fef2-6ed921c1576c"
      },
      "execution_count": null,
      "outputs": [
        {
          "output_type": "stream",
          "name": "stdout",
          "text": [
            "Opcion 1: 24 \n",
            "Opcion 2: 66 \n",
            "Opcion 3: 2 \n",
            "Opcion 4: 44\n"
          ]
        }
      ]
    },
    {
      "cell_type": "markdown",
      "source": [
        "ALGORITMO PARA LAS MUTACIONES DE A_n"
      ],
      "metadata": {
        "id": "Q5BaOjGKL5o8"
      }
    },
    {
      "cell_type": "code",
      "source": [
        "import numpy as np\n",
        "import graphviz\n",
        "from IPython.display import display\n",
        "\n",
        "def crear_grafo_lineal(n):\n",
        "    # Crear un objeto Digraph (grafo dirigido)\n",
        "    dot = graphviz.Digraph(graph_attr={'rankdir': 'LR','label':f'A_{n}','labelloc': 'top'})\n",
        "    conexiones = []\n",
        "\n",
        "    # Agregar nodos al grafo\n",
        "    for i in range(1, n+1):\n",
        "        dot.node(f'x{i}')\n",
        "    # Agregar conexiones lineales entre nodos\n",
        "    for i in range(1, n):\n",
        "        conexion = (f'x{i}', f'x{i+1}')\n",
        "        label=chr(i+96)\n",
        "        conexiones.append(conexion)\n",
        "        dot.edge(*conexion,label)\n",
        "\n",
        "    # Renderizar y mostrar el grafo\n",
        "    display(dot)\n",
        "    matriz(n,conexiones)\n",
        "    return dot, conexiones\n",
        "\n",
        "def invertir_flecha(conexiones, conexion_a_invertir1,n,k,titulo,conexion_a_invertir2=\"No\"):\n",
        "    grafo_invertido = []\n",
        "    for conexion in conexiones:\n",
        "        if conexion == conexion_a_invertir1:\n",
        "            grafo_invertido.append((conexion[1], conexion[0]))  # Invertir la flecha\n",
        "        elif conexion_a_invertir2 != \"No\" and conexion == conexion_a_invertir2:\n",
        "            grafo_invertido.append((conexion[1], conexion[0]))  # Invertir la flecha\n",
        "        else:\n",
        "            grafo_invertido.append(conexion)\n",
        "\n",
        "    # Crear un nuevo grafo con las conexiones invertidas\n",
        "    if (titulo!=None):\n",
        "      titulo=f'U{k}({titulo})'\n",
        "    else:\n",
        "      titulo=f'U{k}(A{n})'\n",
        "    graf_invertido = graphviz.Digraph(graph_attr={'rankdir': 'LR','label':titulo,'labelloc': 'top'})\n",
        "    for nodo in range(1, n+1):\n",
        "        graf_invertido.node(f'x{nodo}')\n",
        "    i=1\n",
        "    for conexion in grafo_invertido:\n",
        "        label=chr(i+96)\n",
        "        if(k-1==i and conexion_a_invertir2 != \"No\"):\n",
        "          label=label+'´'\n",
        "        elif (k == i):\n",
        "          label=label+'´'\n",
        "        i+=1\n",
        "        graf_invertido.edge(*conexion,label)\n",
        "    display(graf_invertido)\n",
        "    matriz(n,grafo_invertido)\n",
        "    return(graf_invertido,grafo_invertido,titulo)\n",
        "\n",
        "def matriz(n,conexiones):\n",
        "  m=np.zeros((n,n),int)\n",
        "  b=np.zeros((n,n),int)\n",
        "  for i in range(n-1):\n",
        "    if conexiones[i][0]==f'x{i+1}' and conexiones[i][1]==f'x{i+2}':\n",
        "      m[i][i+1]=1\n",
        "      b[i][i+1]=1\n",
        "      b[i+1][i]=-1\n",
        "    elif conexiones[i][0]==f'x{i+2}' and conexiones[i][1]==f'x{i+1}':\n",
        "      m[i+1][i]=1\n",
        "      b[i+1][i]=1\n",
        "      b[i][i+1]=-1\n",
        "  print(\"Matriz de adyacencia A =\\n\",m)\n",
        "  print(\"Matriz de adyacencia signada B =\\n\",b)\n",
        "  return\n",
        "\n",
        "\n",
        "n = 3\n",
        "A, conexiones = crear_grafo_lineal(n)\n",
        "titulo=None\n",
        "\n",
        "numNodo=1\n",
        "while numNodo<n+1 and numNodo>0:\n",
        "  numNodo=int(input(\"Ingrese el numero del nodo que quiere mutar: \"))\n",
        "  conexion_a_invertir1,conexion_a_invertir2 = (f'x{numNodo}', f'x{numNodo+1}'),(f'x{numNodo}', f'x{numNodo-1}')\n",
        "  con=conexion_a_invertir1 in conexiones\n",
        "  con2=conexion_a_invertir2 in conexiones\n",
        "  if con and con2:\n",
        "    A, conexiones, titulo = invertir_flecha(conexiones, conexion_a_invertir1, n,numNodo,titulo,conexion_a_invertir2)\n",
        "  elif con:\n",
        "    A, conexiones, titulo = invertir_flecha(conexiones, conexion_a_invertir1, n,numNodo,titulo)\n",
        "  else:\n",
        "    conexion_a_invertir = (f'x{numNodo}', f'x{numNodo-1}')\n",
        "    con=conexion_a_invertir in conexiones\n",
        "    if con:\n",
        "      A, conexiones, titulo = invertir_flecha(conexiones, conexion_a_invertir, n,numNodo,titulo)"
      ],
      "metadata": {
        "colab": {
          "base_uri": "https://localhost:8080/",
          "height": 1000
        },
        "id": "webZEkD-XwRN",
        "outputId": "bfd34b61-417f-4432-e28f-e094673e8733"
      },
      "execution_count": null,
      "outputs": [
        {
          "output_type": "display_data",
          "data": {
            "image/svg+xml": "<?xml version=\"1.0\" encoding=\"UTF-8\" standalone=\"no\"?>\n<!DOCTYPE svg PUBLIC \"-//W3C//DTD SVG 1.1//EN\"\n \"http://www.w3.org/Graphics/SVG/1.1/DTD/svg11.dtd\">\n<!-- Generated by graphviz version 2.43.0 (0)\n -->\n<!-- Title: %3 Pages: 1 -->\n<svg width=\"256pt\" height=\"67pt\"\n viewBox=\"0.00 0.00 256.00 67.00\" xmlns=\"http://www.w3.org/2000/svg\" xmlns:xlink=\"http://www.w3.org/1999/xlink\">\n<g id=\"graph0\" class=\"graph\" transform=\"scale(1 1) rotate(0) translate(4 63)\">\n<title>%3</title>\n<polygon fill=\"white\" stroke=\"transparent\" points=\"-4,4 -4,-63 252,-63 252,4 -4,4\"/>\n<text text-anchor=\"middle\" x=\"124\" y=\"-43.8\" font-family=\"Times,serif\" font-size=\"14.00\">A_3</text>\n<!-- x1 -->\n<g id=\"node1\" class=\"node\">\n<title>x1</title>\n<ellipse fill=\"none\" stroke=\"black\" cx=\"27\" cy=\"-18\" rx=\"27\" ry=\"18\"/>\n<text text-anchor=\"middle\" x=\"27\" y=\"-14.3\" font-family=\"Times,serif\" font-size=\"14.00\">x1</text>\n</g>\n<!-- x2 -->\n<g id=\"node2\" class=\"node\">\n<title>x2</title>\n<ellipse fill=\"none\" stroke=\"black\" cx=\"124\" cy=\"-18\" rx=\"27\" ry=\"18\"/>\n<text text-anchor=\"middle\" x=\"124\" y=\"-14.3\" font-family=\"Times,serif\" font-size=\"14.00\">x2</text>\n</g>\n<!-- x1&#45;&gt;x2 -->\n<g id=\"edge1\" class=\"edge\">\n<title>x1&#45;&gt;x2</title>\n<path fill=\"none\" stroke=\"black\" d=\"M54.21,-18C64.28,-18 75.96,-18 86.81,-18\"/>\n<polygon fill=\"black\" stroke=\"black\" points=\"86.87,-21.5 96.87,-18 86.87,-14.5 86.87,-21.5\"/>\n<text text-anchor=\"middle\" x=\"75.5\" y=\"-21.8\" font-family=\"Times,serif\" font-size=\"14.00\">a</text>\n</g>\n<!-- x3 -->\n<g id=\"node3\" class=\"node\">\n<title>x3</title>\n<ellipse fill=\"none\" stroke=\"black\" cx=\"221\" cy=\"-18\" rx=\"27\" ry=\"18\"/>\n<text text-anchor=\"middle\" x=\"221\" y=\"-14.3\" font-family=\"Times,serif\" font-size=\"14.00\">x3</text>\n</g>\n<!-- x2&#45;&gt;x3 -->\n<g id=\"edge2\" class=\"edge\">\n<title>x2&#45;&gt;x3</title>\n<path fill=\"none\" stroke=\"black\" d=\"M151.21,-18C161.28,-18 172.96,-18 183.81,-18\"/>\n<polygon fill=\"black\" stroke=\"black\" points=\"183.87,-21.5 193.87,-18 183.87,-14.5 183.87,-21.5\"/>\n<text text-anchor=\"middle\" x=\"172.5\" y=\"-21.8\" font-family=\"Times,serif\" font-size=\"14.00\">b</text>\n</g>\n</g>\n</svg>\n",
            "text/plain": [
              "<graphviz.graphs.Digraph at 0x7d837ef33280>"
            ]
          },
          "metadata": {}
        },
        {
          "name": "stdout",
          "output_type": "stream",
          "text": [
            "Matriz de adyacencia A =\n",
            " [[0 1 0]\n",
            " [0 0 1]\n",
            " [0 0 0]]\n",
            "Matriz de adyacencia signada B =\n",
            " [[ 0  1  0]\n",
            " [-1  0  1]\n",
            " [ 0 -1  0]]\n",
            "Ingrese el numero del nodo que quiere mutar: 3\n",
            "Ingrese el numero del nodo que quiere mutar: 1\n"
          ]
        },
        {
          "output_type": "display_data",
          "data": {
            "image/svg+xml": "<?xml version=\"1.0\" encoding=\"UTF-8\" standalone=\"no\"?>\n<!DOCTYPE svg PUBLIC \"-//W3C//DTD SVG 1.1//EN\"\n \"http://www.w3.org/Graphics/SVG/1.1/DTD/svg11.dtd\">\n<!-- Generated by graphviz version 2.43.0 (0)\n -->\n<!-- Title: %3 Pages: 1 -->\n<svg width=\"163pt\" height=\"121pt\"\n viewBox=\"0.00 0.00 163.00 121.00\" xmlns=\"http://www.w3.org/2000/svg\" xmlns:xlink=\"http://www.w3.org/1999/xlink\">\n<g id=\"graph0\" class=\"graph\" transform=\"scale(1 1) rotate(0) translate(4 117)\">\n<title>%3</title>\n<polygon fill=\"white\" stroke=\"transparent\" points=\"-4,4 -4,-117 159,-117 159,4 -4,4\"/>\n<text text-anchor=\"middle\" x=\"77.5\" y=\"-97.8\" font-family=\"Times,serif\" font-size=\"14.00\">U1(A3)</text>\n<!-- x1 -->\n<g id=\"node1\" class=\"node\">\n<title>x1</title>\n<ellipse fill=\"none\" stroke=\"black\" cx=\"128\" cy=\"-72\" rx=\"27\" ry=\"18\"/>\n<text text-anchor=\"middle\" x=\"128\" y=\"-68.3\" font-family=\"Times,serif\" font-size=\"14.00\">x1</text>\n</g>\n<!-- x2 -->\n<g id=\"node2\" class=\"node\">\n<title>x2</title>\n<ellipse fill=\"none\" stroke=\"black\" cx=\"27\" cy=\"-45\" rx=\"27\" ry=\"18\"/>\n<text text-anchor=\"middle\" x=\"27\" y=\"-41.3\" font-family=\"Times,serif\" font-size=\"14.00\">x2</text>\n</g>\n<!-- x2&#45;&gt;x1 -->\n<g id=\"edge1\" class=\"edge\">\n<title>x2&#45;&gt;x1</title>\n<path fill=\"none\" stroke=\"black\" d=\"M52.22,-51.6C64.44,-54.94 79.48,-59.04 92.86,-62.69\"/>\n<polygon fill=\"black\" stroke=\"black\" points=\"92.12,-66.12 102.69,-65.37 93.96,-59.36 92.12,-66.12\"/>\n<text text-anchor=\"middle\" x=\"77.5\" y=\"-62.8\" font-family=\"Times,serif\" font-size=\"14.00\">a´</text>\n</g>\n<!-- x3 -->\n<g id=\"node3\" class=\"node\">\n<title>x3</title>\n<ellipse fill=\"none\" stroke=\"black\" cx=\"128\" cy=\"-18\" rx=\"27\" ry=\"18\"/>\n<text text-anchor=\"middle\" x=\"128\" y=\"-14.3\" font-family=\"Times,serif\" font-size=\"14.00\">x3</text>\n</g>\n<!-- x2&#45;&gt;x3 -->\n<g id=\"edge2\" class=\"edge\">\n<title>x2&#45;&gt;x3</title>\n<path fill=\"none\" stroke=\"black\" d=\"M52.22,-38.4C64.44,-35.06 79.48,-30.96 92.86,-27.31\"/>\n<polygon fill=\"black\" stroke=\"black\" points=\"93.96,-30.64 102.69,-24.63 92.12,-23.88 93.96,-30.64\"/>\n<text text-anchor=\"middle\" x=\"77.5\" y=\"-35.8\" font-family=\"Times,serif\" font-size=\"14.00\">b</text>\n</g>\n</g>\n</svg>\n",
            "text/plain": [
              "<graphviz.graphs.Digraph at 0x7d837ef33eb0>"
            ]
          },
          "metadata": {}
        },
        {
          "name": "stdout",
          "output_type": "stream",
          "text": [
            "Matriz de adyacencia A =\n",
            " [[0 0 0]\n",
            " [1 0 1]\n",
            " [0 0 0]]\n",
            "Matriz de adyacencia signada B =\n",
            " [[ 0 -1  0]\n",
            " [ 1  0  1]\n",
            " [ 0 -1  0]]\n",
            "Ingrese el numero del nodo que quiere mutar: 2\n"
          ]
        },
        {
          "output_type": "display_data",
          "data": {
            "image/svg+xml": "<?xml version=\"1.0\" encoding=\"UTF-8\" standalone=\"no\"?>\n<!DOCTYPE svg PUBLIC \"-//W3C//DTD SVG 1.1//EN\"\n \"http://www.w3.org/Graphics/SVG/1.1/DTD/svg11.dtd\">\n<!-- Generated by graphviz version 2.43.0 (0)\n -->\n<!-- Title: %3 Pages: 1 -->\n<svg width=\"164pt\" height=\"121pt\"\n viewBox=\"0.00 0.00 164.00 121.00\" xmlns=\"http://www.w3.org/2000/svg\" xmlns:xlink=\"http://www.w3.org/1999/xlink\">\n<g id=\"graph0\" class=\"graph\" transform=\"scale(1 1) rotate(0) translate(4 117)\">\n<title>%3</title>\n<polygon fill=\"white\" stroke=\"transparent\" points=\"-4,4 -4,-117 160,-117 160,4 -4,4\"/>\n<text text-anchor=\"middle\" x=\"78\" y=\"-97.8\" font-family=\"Times,serif\" font-size=\"14.00\">U2(U1(A3))</text>\n<!-- x1 -->\n<g id=\"node1\" class=\"node\">\n<title>x1</title>\n<ellipse fill=\"none\" stroke=\"black\" cx=\"27\" cy=\"-72\" rx=\"27\" ry=\"18\"/>\n<text text-anchor=\"middle\" x=\"27\" y=\"-68.3\" font-family=\"Times,serif\" font-size=\"14.00\">x1</text>\n</g>\n<!-- x2 -->\n<g id=\"node2\" class=\"node\">\n<title>x2</title>\n<ellipse fill=\"none\" stroke=\"black\" cx=\"129\" cy=\"-45\" rx=\"27\" ry=\"18\"/>\n<text text-anchor=\"middle\" x=\"129\" y=\"-41.3\" font-family=\"Times,serif\" font-size=\"14.00\">x2</text>\n</g>\n<!-- x1&#45;&gt;x2 -->\n<g id=\"edge1\" class=\"edge\">\n<title>x1&#45;&gt;x2</title>\n<path fill=\"none\" stroke=\"black\" d=\"M52.21,-65.46C64.64,-62.11 80.01,-57.96 93.65,-54.27\"/>\n<polygon fill=\"black\" stroke=\"black\" points=\"94.93,-57.56 103.67,-51.57 93.1,-50.8 94.93,-57.56\"/>\n<text text-anchor=\"middle\" x=\"78\" y=\"-63.8\" font-family=\"Times,serif\" font-size=\"14.00\">a´</text>\n</g>\n<!-- x3 -->\n<g id=\"node3\" class=\"node\">\n<title>x3</title>\n<ellipse fill=\"none\" stroke=\"black\" cx=\"27\" cy=\"-18\" rx=\"27\" ry=\"18\"/>\n<text text-anchor=\"middle\" x=\"27\" y=\"-14.3\" font-family=\"Times,serif\" font-size=\"14.00\">x3</text>\n</g>\n<!-- x3&#45;&gt;x2 -->\n<g id=\"edge2\" class=\"edge\">\n<title>x3&#45;&gt;x2</title>\n<path fill=\"none\" stroke=\"black\" d=\"M52.21,-24.54C64.64,-27.89 80.01,-32.04 93.65,-35.73\"/>\n<polygon fill=\"black\" stroke=\"black\" points=\"93.1,-39.2 103.67,-38.43 94.93,-32.44 93.1,-39.2\"/>\n<text text-anchor=\"middle\" x=\"78\" y=\"-36.8\" font-family=\"Times,serif\" font-size=\"14.00\">b´</text>\n</g>\n</g>\n</svg>\n",
            "text/plain": [
              "<graphviz.graphs.Digraph at 0x7d837ef33460>"
            ]
          },
          "metadata": {}
        },
        {
          "name": "stdout",
          "output_type": "stream",
          "text": [
            "Matriz de adyacencia A =\n",
            " [[0 1 0]\n",
            " [0 0 0]\n",
            " [0 1 0]]\n",
            "Matriz de adyacencia signada B =\n",
            " [[ 0  1  0]\n",
            " [-1  0 -1]\n",
            " [ 0  1  0]]\n",
            "Ingrese el numero del nodo que quiere mutar: 3\n"
          ]
        },
        {
          "output_type": "display_data",
          "data": {
            "image/svg+xml": "<?xml version=\"1.0\" encoding=\"UTF-8\" standalone=\"no\"?>\n<!DOCTYPE svg PUBLIC \"-//W3C//DTD SVG 1.1//EN\"\n \"http://www.w3.org/Graphics/SVG/1.1/DTD/svg11.dtd\">\n<!-- Generated by graphviz version 2.43.0 (0)\n -->\n<!-- Title: %3 Pages: 1 -->\n<svg width=\"256pt\" height=\"67pt\"\n viewBox=\"0.00 0.00 256.00 67.00\" xmlns=\"http://www.w3.org/2000/svg\" xmlns:xlink=\"http://www.w3.org/1999/xlink\">\n<g id=\"graph0\" class=\"graph\" transform=\"scale(1 1) rotate(0) translate(4 63)\">\n<title>%3</title>\n<polygon fill=\"white\" stroke=\"transparent\" points=\"-4,4 -4,-63 252,-63 252,4 -4,4\"/>\n<text text-anchor=\"middle\" x=\"124\" y=\"-43.8\" font-family=\"Times,serif\" font-size=\"14.00\">U3(U2(U1(A3)))</text>\n<!-- x1 -->\n<g id=\"node1\" class=\"node\">\n<title>x1</title>\n<ellipse fill=\"none\" stroke=\"black\" cx=\"27\" cy=\"-18\" rx=\"27\" ry=\"18\"/>\n<text text-anchor=\"middle\" x=\"27\" y=\"-14.3\" font-family=\"Times,serif\" font-size=\"14.00\">x1</text>\n</g>\n<!-- x2 -->\n<g id=\"node2\" class=\"node\">\n<title>x2</title>\n<ellipse fill=\"none\" stroke=\"black\" cx=\"124\" cy=\"-18\" rx=\"27\" ry=\"18\"/>\n<text text-anchor=\"middle\" x=\"124\" y=\"-14.3\" font-family=\"Times,serif\" font-size=\"14.00\">x2</text>\n</g>\n<!-- x1&#45;&gt;x2 -->\n<g id=\"edge1\" class=\"edge\">\n<title>x1&#45;&gt;x2</title>\n<path fill=\"none\" stroke=\"black\" d=\"M54.21,-18C64.28,-18 75.96,-18 86.81,-18\"/>\n<polygon fill=\"black\" stroke=\"black\" points=\"86.87,-21.5 96.87,-18 86.87,-14.5 86.87,-21.5\"/>\n<text text-anchor=\"middle\" x=\"75.5\" y=\"-21.8\" font-family=\"Times,serif\" font-size=\"14.00\">a</text>\n</g>\n<!-- x3 -->\n<g id=\"node3\" class=\"node\">\n<title>x3</title>\n<ellipse fill=\"none\" stroke=\"black\" cx=\"221\" cy=\"-18\" rx=\"27\" ry=\"18\"/>\n<text text-anchor=\"middle\" x=\"221\" y=\"-14.3\" font-family=\"Times,serif\" font-size=\"14.00\">x3</text>\n</g>\n<!-- x2&#45;&gt;x3 -->\n<g id=\"edge2\" class=\"edge\">\n<title>x2&#45;&gt;x3</title>\n<path fill=\"none\" stroke=\"black\" d=\"M151.21,-18C161.28,-18 172.96,-18 183.81,-18\"/>\n<polygon fill=\"black\" stroke=\"black\" points=\"183.87,-21.5 193.87,-18 183.87,-14.5 183.87,-21.5\"/>\n<text text-anchor=\"middle\" x=\"172.5\" y=\"-21.8\" font-family=\"Times,serif\" font-size=\"14.00\">b</text>\n</g>\n</g>\n</svg>\n",
            "text/plain": [
              "<graphviz.graphs.Digraph at 0x7d837ef33b80>"
            ]
          },
          "metadata": {}
        },
        {
          "output_type": "stream",
          "name": "stdout",
          "text": [
            "Matriz de adyacencia A =\n",
            " [[0 1 0]\n",
            " [0 0 1]\n",
            " [0 0 0]]\n",
            "Matriz de adyacencia signada B =\n",
            " [[ 0  1  0]\n",
            " [-1  0  1]\n",
            " [ 0 -1  0]]\n"
          ]
        },
        {
          "output_type": "error",
          "ename": "KeyboardInterrupt",
          "evalue": "Interrupted by user",
          "traceback": [
            "\u001b[0;31m---------------------------------------------------------------------------\u001b[0m",
            "\u001b[0;31mKeyboardInterrupt\u001b[0m                         Traceback (most recent call last)",
            "\u001b[0;32m<ipython-input-20-362f9bb4849e>\u001b[0m in \u001b[0;36m<cell line: 78>\u001b[0;34m()\u001b[0m\n\u001b[1;32m     77\u001b[0m \u001b[0mnumNodo\u001b[0m\u001b[0;34m=\u001b[0m\u001b[0;36m1\u001b[0m\u001b[0;34m\u001b[0m\u001b[0;34m\u001b[0m\u001b[0m\n\u001b[1;32m     78\u001b[0m \u001b[0;32mwhile\u001b[0m \u001b[0mnumNodo\u001b[0m\u001b[0;34m<\u001b[0m\u001b[0mn\u001b[0m\u001b[0;34m+\u001b[0m\u001b[0;36m1\u001b[0m \u001b[0;32mand\u001b[0m \u001b[0mnumNodo\u001b[0m\u001b[0;34m>\u001b[0m\u001b[0;36m0\u001b[0m\u001b[0;34m:\u001b[0m\u001b[0;34m\u001b[0m\u001b[0;34m\u001b[0m\u001b[0m\n\u001b[0;32m---> 79\u001b[0;31m   \u001b[0mnumNodo\u001b[0m\u001b[0;34m=\u001b[0m\u001b[0mint\u001b[0m\u001b[0;34m(\u001b[0m\u001b[0minput\u001b[0m\u001b[0;34m(\u001b[0m\u001b[0;34m\"Ingrese el numero del nodo que quiere mutar: \"\u001b[0m\u001b[0;34m)\u001b[0m\u001b[0;34m)\u001b[0m\u001b[0;34m\u001b[0m\u001b[0;34m\u001b[0m\u001b[0m\n\u001b[0m\u001b[1;32m     80\u001b[0m   \u001b[0mconexion_a_invertir1\u001b[0m\u001b[0;34m,\u001b[0m\u001b[0mconexion_a_invertir2\u001b[0m \u001b[0;34m=\u001b[0m \u001b[0;34m(\u001b[0m\u001b[0;34mf'x{numNodo}'\u001b[0m\u001b[0;34m,\u001b[0m \u001b[0;34mf'x{numNodo+1}'\u001b[0m\u001b[0;34m)\u001b[0m\u001b[0;34m,\u001b[0m\u001b[0;34m(\u001b[0m\u001b[0;34mf'x{numNodo}'\u001b[0m\u001b[0;34m,\u001b[0m \u001b[0;34mf'x{numNodo-1}'\u001b[0m\u001b[0;34m)\u001b[0m\u001b[0;34m\u001b[0m\u001b[0;34m\u001b[0m\u001b[0m\n\u001b[1;32m     81\u001b[0m   \u001b[0mcon\u001b[0m\u001b[0;34m=\u001b[0m\u001b[0mconexion_a_invertir1\u001b[0m \u001b[0;32min\u001b[0m \u001b[0mconexiones\u001b[0m\u001b[0;34m\u001b[0m\u001b[0;34m\u001b[0m\u001b[0m\n",
            "\u001b[0;32m/usr/local/lib/python3.10/dist-packages/ipykernel/kernelbase.py\u001b[0m in \u001b[0;36mraw_input\u001b[0;34m(self, prompt)\u001b[0m\n\u001b[1;32m    849\u001b[0m                 \u001b[0;34m\"raw_input was called, but this frontend does not support input requests.\"\u001b[0m\u001b[0;34m\u001b[0m\u001b[0;34m\u001b[0m\u001b[0m\n\u001b[1;32m    850\u001b[0m             )\n\u001b[0;32m--> 851\u001b[0;31m         return self._input_request(str(prompt),\n\u001b[0m\u001b[1;32m    852\u001b[0m             \u001b[0mself\u001b[0m\u001b[0;34m.\u001b[0m\u001b[0m_parent_ident\u001b[0m\u001b[0;34m,\u001b[0m\u001b[0;34m\u001b[0m\u001b[0;34m\u001b[0m\u001b[0m\n\u001b[1;32m    853\u001b[0m             \u001b[0mself\u001b[0m\u001b[0;34m.\u001b[0m\u001b[0m_parent_header\u001b[0m\u001b[0;34m,\u001b[0m\u001b[0;34m\u001b[0m\u001b[0;34m\u001b[0m\u001b[0m\n",
            "\u001b[0;32m/usr/local/lib/python3.10/dist-packages/ipykernel/kernelbase.py\u001b[0m in \u001b[0;36m_input_request\u001b[0;34m(self, prompt, ident, parent, password)\u001b[0m\n\u001b[1;32m    893\u001b[0m             \u001b[0;32mexcept\u001b[0m \u001b[0mKeyboardInterrupt\u001b[0m\u001b[0;34m:\u001b[0m\u001b[0;34m\u001b[0m\u001b[0;34m\u001b[0m\u001b[0m\n\u001b[1;32m    894\u001b[0m                 \u001b[0;31m# re-raise KeyboardInterrupt, to truncate traceback\u001b[0m\u001b[0;34m\u001b[0m\u001b[0;34m\u001b[0m\u001b[0m\n\u001b[0;32m--> 895\u001b[0;31m                 \u001b[0;32mraise\u001b[0m \u001b[0mKeyboardInterrupt\u001b[0m\u001b[0;34m(\u001b[0m\u001b[0;34m\"Interrupted by user\"\u001b[0m\u001b[0;34m)\u001b[0m \u001b[0;32mfrom\u001b[0m \u001b[0;32mNone\u001b[0m\u001b[0;34m\u001b[0m\u001b[0;34m\u001b[0m\u001b[0m\n\u001b[0m\u001b[1;32m    896\u001b[0m             \u001b[0;32mexcept\u001b[0m \u001b[0mException\u001b[0m \u001b[0;32mas\u001b[0m \u001b[0me\u001b[0m\u001b[0;34m:\u001b[0m\u001b[0;34m\u001b[0m\u001b[0;34m\u001b[0m\u001b[0m\n\u001b[1;32m    897\u001b[0m                 \u001b[0mself\u001b[0m\u001b[0;34m.\u001b[0m\u001b[0mlog\u001b[0m\u001b[0;34m.\u001b[0m\u001b[0mwarning\u001b[0m\u001b[0;34m(\u001b[0m\u001b[0;34m\"Invalid Message:\"\u001b[0m\u001b[0;34m,\u001b[0m \u001b[0mexc_info\u001b[0m\u001b[0;34m=\u001b[0m\u001b[0;32mTrue\u001b[0m\u001b[0;34m)\u001b[0m\u001b[0;34m\u001b[0m\u001b[0;34m\u001b[0m\u001b[0m\n",
            "\u001b[0;31mKeyboardInterrupt\u001b[0m: Interrupted by user"
          ]
        }
      ]
    },
    {
      "cell_type": "code",
      "source": [
        "import numpy as np\n",
        "import graphviz\n",
        "from IPython.display import display\n",
        "\n",
        "def crear_grafo_lineal(n):\n",
        "    # Crear un objeto Digraph (grafo dirigido)\n",
        "    dot = graphviz.Digraph(graph_attr={'rankdir': 'LR','label':f'A_{n}','labelloc': 'top'})\n",
        "    conexiones = []\n",
        "\n",
        "    # Agregar nodos al grafo\n",
        "    for i in range(1, n+1):\n",
        "        dot.node(f'x{n+1-i}')\n",
        "    # Agregar conexiones lineales entre nodos\n",
        "    for i in range(1, n):\n",
        "        conexion = (f'x{i+1}', f'x{i}')\n",
        "        label=chr(i+96)\n",
        "        conexiones.append(conexion)\n",
        "        dot.edge(*conexion,label)\n",
        "\n",
        "    # Renderizar y mostrar el grafo\n",
        "    display(dot)\n",
        "    matriz(n,conexiones)\n",
        "    return dot, conexiones\n",
        "\n",
        "def invertir_flecha(conexiones, conexion_a_invertir1,n,k,titulo,conexion_a_invertir2=\"No\"):\n",
        "    grafo_invertido = []\n",
        "    for conexion in conexiones:\n",
        "        if conexion == conexion_a_invertir1:\n",
        "            grafo_invertido.append((conexion[1], conexion[0]))  # Invertir la flecha\n",
        "        elif conexion_a_invertir2 != \"No\" and conexion == conexion_a_invertir2:\n",
        "            grafo_invertido.append((conexion[1], conexion[0]))  # Invertir la flecha\n",
        "        else:\n",
        "            grafo_invertido.append(conexion)\n",
        "\n",
        "    # Crear un nuevo grafo con las conexiones invertidas\n",
        "    if (titulo!=None):\n",
        "      titulo=f'U{k}({titulo})'\n",
        "    else:\n",
        "      titulo=f'U{k}(A{n})'\n",
        "    graf_invertido = graphviz.Digraph(graph_attr={'rankdir': 'LR','label':titulo,'labelloc': 'top'})\n",
        "    for nodo in range(1, n+1):\n",
        "        graf_invertido.node(f'x{nodo}')\n",
        "    i=1\n",
        "    for conexion in grafo_invertido:\n",
        "        label=chr(i+96)\n",
        "        if(k-1==i and conexion_a_invertir2 != \"No\"):\n",
        "          label=label+'´'\n",
        "        elif (k == i):\n",
        "          label=label+'´'\n",
        "        i+=1\n",
        "        graf_invertido.edge(*conexion,label)\n",
        "    display(graf_invertido)\n",
        "    matriz(n,grafo_invertido)\n",
        "    return(graf_invertido,grafo_invertido,titulo)\n",
        "\n",
        "def matriz(n,conexiones):\n",
        "  m=np.zeros((n,n),int)\n",
        "  b=np.zeros((n,n),int)\n",
        "  for i in range(n-1):\n",
        "    if conexiones[i][0]==f'x{i+1}' and conexiones[i][1]==f'x{i+2}':\n",
        "      m[i][i+1]=1\n",
        "      b[i][i+1]=1\n",
        "      b[i+1][i]=-1\n",
        "    elif conexiones[i][0]==f'x{i+2}' and conexiones[i][1]==f'x{i+1}':\n",
        "      m[i+1][i]=1\n",
        "      b[i+1][i]=1\n",
        "      b[i][i+1]=-1\n",
        "  print(\"Matriz de adyacencia A =\\n\",m)\n",
        "  print(\"Matriz de adyacencia signada B =\\n\",b)\n",
        "  return\n",
        "\n",
        "\n",
        "n = 3\n",
        "A, conexiones = crear_grafo_lineal(n)\n",
        "titulo=None\n",
        "\n",
        "numNodo=1\n",
        "while numNodo<n+1 and numNodo>0:\n",
        "  numNodo=int(input(\"Ingrese el numero del nodo que quiere mutar: \"))\n",
        "  conexion_a_invertir1,conexion_a_invertir2 = (f'x{numNodo}', f'x{numNodo+1}'),(f'x{numNodo}', f'x{numNodo-1}')\n",
        "  con=conexion_a_invertir1 in conexiones\n",
        "  con2=conexion_a_invertir2 in conexiones\n",
        "  if con and con2:\n",
        "    A, conexiones, titulo = invertir_flecha(conexiones, conexion_a_invertir1, n,numNodo,titulo,conexion_a_invertir2)\n",
        "  elif con:\n",
        "    A, conexiones, titulo = invertir_flecha(conexiones, conexion_a_invertir1, n,numNodo,titulo)\n",
        "  else:\n",
        "    conexion_a_invertir = (f'x{numNodo}', f'x{numNodo-1}')\n",
        "    con=conexion_a_invertir in conexiones\n",
        "    if con:\n",
        "      A, conexiones, titulo = invertir_flecha(conexiones, conexion_a_invertir, n,numNodo,titulo)"
      ],
      "metadata": {
        "colab": {
          "base_uri": "https://localhost:8080/",
          "height": 1000
        },
        "id": "x50LM-N80lwQ",
        "outputId": "e1523422-ec52-49ac-8ab6-396bf21833af"
      },
      "execution_count": null,
      "outputs": [
        {
          "output_type": "display_data",
          "data": {
            "image/svg+xml": "<?xml version=\"1.0\" encoding=\"UTF-8\" standalone=\"no\"?>\n<!DOCTYPE svg PUBLIC \"-//W3C//DTD SVG 1.1//EN\"\n \"http://www.w3.org/Graphics/SVG/1.1/DTD/svg11.dtd\">\n<!-- Generated by graphviz version 2.43.0 (0)\n -->\n<!-- Title: %3 Pages: 1 -->\n<svg width=\"256pt\" height=\"67pt\"\n viewBox=\"0.00 0.00 256.00 67.00\" xmlns=\"http://www.w3.org/2000/svg\" xmlns:xlink=\"http://www.w3.org/1999/xlink\">\n<g id=\"graph0\" class=\"graph\" transform=\"scale(1 1) rotate(0) translate(4 63)\">\n<title>%3</title>\n<polygon fill=\"white\" stroke=\"transparent\" points=\"-4,4 -4,-63 252,-63 252,4 -4,4\"/>\n<text text-anchor=\"middle\" x=\"124\" y=\"-43.8\" font-family=\"Times,serif\" font-size=\"14.00\">A_3</text>\n<!-- x3 -->\n<g id=\"node1\" class=\"node\">\n<title>x3</title>\n<ellipse fill=\"none\" stroke=\"black\" cx=\"27\" cy=\"-18\" rx=\"27\" ry=\"18\"/>\n<text text-anchor=\"middle\" x=\"27\" y=\"-14.3\" font-family=\"Times,serif\" font-size=\"14.00\">x3</text>\n</g>\n<!-- x2 -->\n<g id=\"node2\" class=\"node\">\n<title>x2</title>\n<ellipse fill=\"none\" stroke=\"black\" cx=\"124\" cy=\"-18\" rx=\"27\" ry=\"18\"/>\n<text text-anchor=\"middle\" x=\"124\" y=\"-14.3\" font-family=\"Times,serif\" font-size=\"14.00\">x2</text>\n</g>\n<!-- x3&#45;&gt;x2 -->\n<g id=\"edge2\" class=\"edge\">\n<title>x3&#45;&gt;x2</title>\n<path fill=\"none\" stroke=\"black\" d=\"M54.21,-18C64.28,-18 75.96,-18 86.81,-18\"/>\n<polygon fill=\"black\" stroke=\"black\" points=\"86.87,-21.5 96.87,-18 86.87,-14.5 86.87,-21.5\"/>\n<text text-anchor=\"middle\" x=\"75.5\" y=\"-21.8\" font-family=\"Times,serif\" font-size=\"14.00\">b</text>\n</g>\n<!-- x1 -->\n<g id=\"node3\" class=\"node\">\n<title>x1</title>\n<ellipse fill=\"none\" stroke=\"black\" cx=\"221\" cy=\"-18\" rx=\"27\" ry=\"18\"/>\n<text text-anchor=\"middle\" x=\"221\" y=\"-14.3\" font-family=\"Times,serif\" font-size=\"14.00\">x1</text>\n</g>\n<!-- x2&#45;&gt;x1 -->\n<g id=\"edge1\" class=\"edge\">\n<title>x2&#45;&gt;x1</title>\n<path fill=\"none\" stroke=\"black\" d=\"M151.21,-18C161.28,-18 172.96,-18 183.81,-18\"/>\n<polygon fill=\"black\" stroke=\"black\" points=\"183.87,-21.5 193.87,-18 183.87,-14.5 183.87,-21.5\"/>\n<text text-anchor=\"middle\" x=\"172.5\" y=\"-21.8\" font-family=\"Times,serif\" font-size=\"14.00\">a</text>\n</g>\n</g>\n</svg>\n",
            "text/plain": [
              "<graphviz.graphs.Digraph at 0x7d837ed84280>"
            ]
          },
          "metadata": {}
        },
        {
          "name": "stdout",
          "output_type": "stream",
          "text": [
            "Matriz de adyacencia A =\n",
            " [[0 0 0]\n",
            " [1 0 0]\n",
            " [0 1 0]]\n",
            "Matriz de adyacencia signada B =\n",
            " [[ 0 -1  0]\n",
            " [ 1  0 -1]\n",
            " [ 0  1  0]]\n",
            "Ingrese el numero del nodo que quiere mutar: 3\n"
          ]
        },
        {
          "output_type": "display_data",
          "data": {
            "image/svg+xml": "<?xml version=\"1.0\" encoding=\"UTF-8\" standalone=\"no\"?>\n<!DOCTYPE svg PUBLIC \"-//W3C//DTD SVG 1.1//EN\"\n \"http://www.w3.org/Graphics/SVG/1.1/DTD/svg11.dtd\">\n<!-- Generated by graphviz version 2.43.0 (0)\n -->\n<!-- Title: %3 Pages: 1 -->\n<svg width=\"159pt\" height=\"121pt\"\n viewBox=\"0.00 0.00 159.00 121.00\" xmlns=\"http://www.w3.org/2000/svg\" xmlns:xlink=\"http://www.w3.org/1999/xlink\">\n<g id=\"graph0\" class=\"graph\" transform=\"scale(1 1) rotate(0) translate(4 117)\">\n<title>%3</title>\n<polygon fill=\"white\" stroke=\"transparent\" points=\"-4,4 -4,-117 155,-117 155,4 -4,4\"/>\n<text text-anchor=\"middle\" x=\"75.5\" y=\"-97.8\" font-family=\"Times,serif\" font-size=\"14.00\">U3(A3)</text>\n<!-- x1 -->\n<g id=\"node1\" class=\"node\">\n<title>x1</title>\n<ellipse fill=\"none\" stroke=\"black\" cx=\"124\" cy=\"-72\" rx=\"27\" ry=\"18\"/>\n<text text-anchor=\"middle\" x=\"124\" y=\"-68.3\" font-family=\"Times,serif\" font-size=\"14.00\">x1</text>\n</g>\n<!-- x2 -->\n<g id=\"node2\" class=\"node\">\n<title>x2</title>\n<ellipse fill=\"none\" stroke=\"black\" cx=\"27\" cy=\"-45\" rx=\"27\" ry=\"18\"/>\n<text text-anchor=\"middle\" x=\"27\" y=\"-41.3\" font-family=\"Times,serif\" font-size=\"14.00\">x2</text>\n</g>\n<!-- x2&#45;&gt;x1 -->\n<g id=\"edge1\" class=\"edge\">\n<title>x2&#45;&gt;x1</title>\n<path fill=\"none\" stroke=\"black\" d=\"M52.46,-51.95C63.63,-55.13 77.04,-58.94 89.15,-62.38\"/>\n<polygon fill=\"black\" stroke=\"black\" points=\"88.37,-65.8 98.95,-65.16 90.28,-59.06 88.37,-65.8\"/>\n<text text-anchor=\"middle\" x=\"75.5\" y=\"-62.8\" font-family=\"Times,serif\" font-size=\"14.00\">a</text>\n</g>\n<!-- x3 -->\n<g id=\"node3\" class=\"node\">\n<title>x3</title>\n<ellipse fill=\"none\" stroke=\"black\" cx=\"124\" cy=\"-18\" rx=\"27\" ry=\"18\"/>\n<text text-anchor=\"middle\" x=\"124\" y=\"-14.3\" font-family=\"Times,serif\" font-size=\"14.00\">x3</text>\n</g>\n<!-- x2&#45;&gt;x3 -->\n<g id=\"edge2\" class=\"edge\">\n<title>x2&#45;&gt;x3</title>\n<path fill=\"none\" stroke=\"black\" d=\"M52.46,-38.05C63.63,-34.87 77.04,-31.06 89.15,-27.62\"/>\n<polygon fill=\"black\" stroke=\"black\" points=\"90.28,-30.94 98.95,-24.84 88.37,-24.2 90.28,-30.94\"/>\n<text text-anchor=\"middle\" x=\"75.5\" y=\"-35.8\" font-family=\"Times,serif\" font-size=\"14.00\">b</text>\n</g>\n</g>\n</svg>\n",
            "text/plain": [
              "<graphviz.graphs.Digraph at 0x7d83b01d2e00>"
            ]
          },
          "metadata": {}
        },
        {
          "name": "stdout",
          "output_type": "stream",
          "text": [
            "Matriz de adyacencia A =\n",
            " [[0 0 0]\n",
            " [1 0 1]\n",
            " [0 0 0]]\n",
            "Matriz de adyacencia signada B =\n",
            " [[ 0 -1  0]\n",
            " [ 1  0  1]\n",
            " [ 0 -1  0]]\n",
            "Ingrese el numero del nodo que quiere mutar: 2\n"
          ]
        },
        {
          "output_type": "display_data",
          "data": {
            "image/svg+xml": "<?xml version=\"1.0\" encoding=\"UTF-8\" standalone=\"no\"?>\n<!DOCTYPE svg PUBLIC \"-//W3C//DTD SVG 1.1//EN\"\n \"http://www.w3.org/Graphics/SVG/1.1/DTD/svg11.dtd\">\n<!-- Generated by graphviz version 2.43.0 (0)\n -->\n<!-- Title: %3 Pages: 1 -->\n<svg width=\"164pt\" height=\"121pt\"\n viewBox=\"0.00 0.00 164.00 121.00\" xmlns=\"http://www.w3.org/2000/svg\" xmlns:xlink=\"http://www.w3.org/1999/xlink\">\n<g id=\"graph0\" class=\"graph\" transform=\"scale(1 1) rotate(0) translate(4 117)\">\n<title>%3</title>\n<polygon fill=\"white\" stroke=\"transparent\" points=\"-4,4 -4,-117 160,-117 160,4 -4,4\"/>\n<text text-anchor=\"middle\" x=\"78\" y=\"-97.8\" font-family=\"Times,serif\" font-size=\"14.00\">U2(U3(A3))</text>\n<!-- x1 -->\n<g id=\"node1\" class=\"node\">\n<title>x1</title>\n<ellipse fill=\"none\" stroke=\"black\" cx=\"27\" cy=\"-72\" rx=\"27\" ry=\"18\"/>\n<text text-anchor=\"middle\" x=\"27\" y=\"-68.3\" font-family=\"Times,serif\" font-size=\"14.00\">x1</text>\n</g>\n<!-- x2 -->\n<g id=\"node2\" class=\"node\">\n<title>x2</title>\n<ellipse fill=\"none\" stroke=\"black\" cx=\"129\" cy=\"-45\" rx=\"27\" ry=\"18\"/>\n<text text-anchor=\"middle\" x=\"129\" y=\"-41.3\" font-family=\"Times,serif\" font-size=\"14.00\">x2</text>\n</g>\n<!-- x1&#45;&gt;x2 -->\n<g id=\"edge1\" class=\"edge\">\n<title>x1&#45;&gt;x2</title>\n<path fill=\"none\" stroke=\"black\" d=\"M52.21,-65.46C64.64,-62.11 80.01,-57.96 93.65,-54.27\"/>\n<polygon fill=\"black\" stroke=\"black\" points=\"94.93,-57.56 103.67,-51.57 93.1,-50.8 94.93,-57.56\"/>\n<text text-anchor=\"middle\" x=\"78\" y=\"-63.8\" font-family=\"Times,serif\" font-size=\"14.00\">a´</text>\n</g>\n<!-- x3 -->\n<g id=\"node3\" class=\"node\">\n<title>x3</title>\n<ellipse fill=\"none\" stroke=\"black\" cx=\"27\" cy=\"-18\" rx=\"27\" ry=\"18\"/>\n<text text-anchor=\"middle\" x=\"27\" y=\"-14.3\" font-family=\"Times,serif\" font-size=\"14.00\">x3</text>\n</g>\n<!-- x3&#45;&gt;x2 -->\n<g id=\"edge2\" class=\"edge\">\n<title>x3&#45;&gt;x2</title>\n<path fill=\"none\" stroke=\"black\" d=\"M52.21,-24.54C64.64,-27.89 80.01,-32.04 93.65,-35.73\"/>\n<polygon fill=\"black\" stroke=\"black\" points=\"93.1,-39.2 103.67,-38.43 94.93,-32.44 93.1,-39.2\"/>\n<text text-anchor=\"middle\" x=\"78\" y=\"-36.8\" font-family=\"Times,serif\" font-size=\"14.00\">b´</text>\n</g>\n</g>\n</svg>\n",
            "text/plain": [
              "<graphviz.graphs.Digraph at 0x7d837ed84280>"
            ]
          },
          "metadata": {}
        },
        {
          "name": "stdout",
          "output_type": "stream",
          "text": [
            "Matriz de adyacencia A =\n",
            " [[0 1 0]\n",
            " [0 0 0]\n",
            " [0 1 0]]\n",
            "Matriz de adyacencia signada B =\n",
            " [[ 0  1  0]\n",
            " [-1  0 -1]\n",
            " [ 0  1  0]]\n",
            "Ingrese el numero del nodo que quiere mutar: 1\n"
          ]
        },
        {
          "output_type": "display_data",
          "data": {
            "image/svg+xml": "<?xml version=\"1.0\" encoding=\"UTF-8\" standalone=\"no\"?>\n<!DOCTYPE svg PUBLIC \"-//W3C//DTD SVG 1.1//EN\"\n \"http://www.w3.org/Graphics/SVG/1.1/DTD/svg11.dtd\">\n<!-- Generated by graphviz version 2.43.0 (0)\n -->\n<!-- Title: %3 Pages: 1 -->\n<svg width=\"260pt\" height=\"67pt\"\n viewBox=\"0.00 0.00 260.00 67.00\" xmlns=\"http://www.w3.org/2000/svg\" xmlns:xlink=\"http://www.w3.org/1999/xlink\">\n<g id=\"graph0\" class=\"graph\" transform=\"scale(1 1) rotate(0) translate(4 63)\">\n<title>%3</title>\n<polygon fill=\"white\" stroke=\"transparent\" points=\"-4,4 -4,-63 256,-63 256,4 -4,4\"/>\n<text text-anchor=\"middle\" x=\"126\" y=\"-43.8\" font-family=\"Times,serif\" font-size=\"14.00\">U1(U2(U3(A3)))</text>\n<!-- x1 -->\n<g id=\"node1\" class=\"node\">\n<title>x1</title>\n<ellipse fill=\"none\" stroke=\"black\" cx=\"225\" cy=\"-18\" rx=\"27\" ry=\"18\"/>\n<text text-anchor=\"middle\" x=\"225\" y=\"-14.3\" font-family=\"Times,serif\" font-size=\"14.00\">x1</text>\n</g>\n<!-- x2 -->\n<g id=\"node2\" class=\"node\">\n<title>x2</title>\n<ellipse fill=\"none\" stroke=\"black\" cx=\"124\" cy=\"-18\" rx=\"27\" ry=\"18\"/>\n<text text-anchor=\"middle\" x=\"124\" y=\"-14.3\" font-family=\"Times,serif\" font-size=\"14.00\">x2</text>\n</g>\n<!-- x2&#45;&gt;x1 -->\n<g id=\"edge1\" class=\"edge\">\n<title>x2&#45;&gt;x1</title>\n<path fill=\"none\" stroke=\"black\" d=\"M151.01,-18C162.18,-18 175.42,-18 187.54,-18\"/>\n<polygon fill=\"black\" stroke=\"black\" points=\"187.82,-21.5 197.82,-18 187.82,-14.5 187.82,-21.5\"/>\n<text text-anchor=\"middle\" x=\"174.5\" y=\"-21.8\" font-family=\"Times,serif\" font-size=\"14.00\">a´</text>\n</g>\n<!-- x3 -->\n<g id=\"node3\" class=\"node\">\n<title>x3</title>\n<ellipse fill=\"none\" stroke=\"black\" cx=\"27\" cy=\"-18\" rx=\"27\" ry=\"18\"/>\n<text text-anchor=\"middle\" x=\"27\" y=\"-14.3\" font-family=\"Times,serif\" font-size=\"14.00\">x3</text>\n</g>\n<!-- x3&#45;&gt;x2 -->\n<g id=\"edge2\" class=\"edge\">\n<title>x3&#45;&gt;x2</title>\n<path fill=\"none\" stroke=\"black\" d=\"M54.21,-18C64.28,-18 75.96,-18 86.81,-18\"/>\n<polygon fill=\"black\" stroke=\"black\" points=\"86.87,-21.5 96.87,-18 86.87,-14.5 86.87,-21.5\"/>\n<text text-anchor=\"middle\" x=\"75.5\" y=\"-21.8\" font-family=\"Times,serif\" font-size=\"14.00\">b</text>\n</g>\n</g>\n</svg>\n",
            "text/plain": [
              "<graphviz.graphs.Digraph at 0x7d83b01d2c50>"
            ]
          },
          "metadata": {}
        },
        {
          "name": "stdout",
          "output_type": "stream",
          "text": [
            "Matriz de adyacencia A =\n",
            " [[0 0 0]\n",
            " [1 0 0]\n",
            " [0 1 0]]\n",
            "Matriz de adyacencia signada B =\n",
            " [[ 0 -1  0]\n",
            " [ 1  0 -1]\n",
            " [ 0  1  0]]\n",
            "Ingrese el numero del nodo que quiere mutar: 3\n"
          ]
        },
        {
          "output_type": "display_data",
          "data": {
            "image/svg+xml": "<?xml version=\"1.0\" encoding=\"UTF-8\" standalone=\"no\"?>\n<!DOCTYPE svg PUBLIC \"-//W3C//DTD SVG 1.1//EN\"\n \"http://www.w3.org/Graphics/SVG/1.1/DTD/svg11.dtd\">\n<!-- Generated by graphviz version 2.43.0 (0)\n -->\n<!-- Title: %3 Pages: 1 -->\n<svg width=\"159pt\" height=\"121pt\"\n viewBox=\"0.00 0.00 159.00 121.00\" xmlns=\"http://www.w3.org/2000/svg\" xmlns:xlink=\"http://www.w3.org/1999/xlink\">\n<g id=\"graph0\" class=\"graph\" transform=\"scale(1 1) rotate(0) translate(4 117)\">\n<title>%3</title>\n<polygon fill=\"white\" stroke=\"transparent\" points=\"-4,4 -4,-117 155,-117 155,4 -4,4\"/>\n<text text-anchor=\"middle\" x=\"75.5\" y=\"-97.8\" font-family=\"Times,serif\" font-size=\"14.00\">U3(U1(U2(U3(A3))))</text>\n<!-- x1 -->\n<g id=\"node1\" class=\"node\">\n<title>x1</title>\n<ellipse fill=\"none\" stroke=\"black\" cx=\"124\" cy=\"-72\" rx=\"27\" ry=\"18\"/>\n<text text-anchor=\"middle\" x=\"124\" y=\"-68.3\" font-family=\"Times,serif\" font-size=\"14.00\">x1</text>\n</g>\n<!-- x2 -->\n<g id=\"node2\" class=\"node\">\n<title>x2</title>\n<ellipse fill=\"none\" stroke=\"black\" cx=\"27\" cy=\"-45\" rx=\"27\" ry=\"18\"/>\n<text text-anchor=\"middle\" x=\"27\" y=\"-41.3\" font-family=\"Times,serif\" font-size=\"14.00\">x2</text>\n</g>\n<!-- x2&#45;&gt;x1 -->\n<g id=\"edge1\" class=\"edge\">\n<title>x2&#45;&gt;x1</title>\n<path fill=\"none\" stroke=\"black\" d=\"M52.46,-51.95C63.63,-55.13 77.04,-58.94 89.15,-62.38\"/>\n<polygon fill=\"black\" stroke=\"black\" points=\"88.37,-65.8 98.95,-65.16 90.28,-59.06 88.37,-65.8\"/>\n<text text-anchor=\"middle\" x=\"75.5\" y=\"-62.8\" font-family=\"Times,serif\" font-size=\"14.00\">a</text>\n</g>\n<!-- x3 -->\n<g id=\"node3\" class=\"node\">\n<title>x3</title>\n<ellipse fill=\"none\" stroke=\"black\" cx=\"124\" cy=\"-18\" rx=\"27\" ry=\"18\"/>\n<text text-anchor=\"middle\" x=\"124\" y=\"-14.3\" font-family=\"Times,serif\" font-size=\"14.00\">x3</text>\n</g>\n<!-- x2&#45;&gt;x3 -->\n<g id=\"edge2\" class=\"edge\">\n<title>x2&#45;&gt;x3</title>\n<path fill=\"none\" stroke=\"black\" d=\"M52.46,-38.05C63.63,-34.87 77.04,-31.06 89.15,-27.62\"/>\n<polygon fill=\"black\" stroke=\"black\" points=\"90.28,-30.94 98.95,-24.84 88.37,-24.2 90.28,-30.94\"/>\n<text text-anchor=\"middle\" x=\"75.5\" y=\"-35.8\" font-family=\"Times,serif\" font-size=\"14.00\">b</text>\n</g>\n</g>\n</svg>\n",
            "text/plain": [
              "<graphviz.graphs.Digraph at 0x7d837ed84280>"
            ]
          },
          "metadata": {}
        },
        {
          "name": "stdout",
          "output_type": "stream",
          "text": [
            "Matriz de adyacencia A =\n",
            " [[0 0 0]\n",
            " [1 0 1]\n",
            " [0 0 0]]\n",
            "Matriz de adyacencia signada B =\n",
            " [[ 0 -1  0]\n",
            " [ 1  0  1]\n",
            " [ 0 -1  0]]\n",
            "Ingrese el numero del nodo que quiere mutar: 2\n"
          ]
        },
        {
          "output_type": "display_data",
          "data": {
            "image/svg+xml": "<?xml version=\"1.0\" encoding=\"UTF-8\" standalone=\"no\"?>\n<!DOCTYPE svg PUBLIC \"-//W3C//DTD SVG 1.1//EN\"\n \"http://www.w3.org/Graphics/SVG/1.1/DTD/svg11.dtd\">\n<!-- Generated by graphviz version 2.43.0 (0)\n -->\n<!-- Title: %3 Pages: 1 -->\n<svg width=\"169pt\" height=\"121pt\"\n viewBox=\"0.00 0.00 169.00 121.00\" xmlns=\"http://www.w3.org/2000/svg\" xmlns:xlink=\"http://www.w3.org/1999/xlink\">\n<g id=\"graph0\" class=\"graph\" transform=\"scale(1 1) rotate(0) translate(4 117)\">\n<title>%3</title>\n<polygon fill=\"white\" stroke=\"transparent\" points=\"-4,4 -4,-117 165,-117 165,4 -4,4\"/>\n<text text-anchor=\"middle\" x=\"80.5\" y=\"-97.8\" font-family=\"Times,serif\" font-size=\"14.00\">U2(U3(U1(U2(U3(A3)))))</text>\n<!-- x1 -->\n<g id=\"node1\" class=\"node\">\n<title>x1</title>\n<ellipse fill=\"none\" stroke=\"black\" cx=\"29.5\" cy=\"-72\" rx=\"27\" ry=\"18\"/>\n<text text-anchor=\"middle\" x=\"29.5\" y=\"-68.3\" font-family=\"Times,serif\" font-size=\"14.00\">x1</text>\n</g>\n<!-- x2 -->\n<g id=\"node2\" class=\"node\">\n<title>x2</title>\n<ellipse fill=\"none\" stroke=\"black\" cx=\"131.5\" cy=\"-45\" rx=\"27\" ry=\"18\"/>\n<text text-anchor=\"middle\" x=\"131.5\" y=\"-41.3\" font-family=\"Times,serif\" font-size=\"14.00\">x2</text>\n</g>\n<!-- x1&#45;&gt;x2 -->\n<g id=\"edge1\" class=\"edge\">\n<title>x1&#45;&gt;x2</title>\n<path fill=\"none\" stroke=\"black\" d=\"M54.71,-65.46C67.14,-62.11 82.51,-57.96 96.15,-54.27\"/>\n<polygon fill=\"black\" stroke=\"black\" points=\"97.43,-57.56 106.17,-51.57 95.6,-50.8 97.43,-57.56\"/>\n<text text-anchor=\"middle\" x=\"80.5\" y=\"-63.8\" font-family=\"Times,serif\" font-size=\"14.00\">a´</text>\n</g>\n<!-- x3 -->\n<g id=\"node3\" class=\"node\">\n<title>x3</title>\n<ellipse fill=\"none\" stroke=\"black\" cx=\"29.5\" cy=\"-18\" rx=\"27\" ry=\"18\"/>\n<text text-anchor=\"middle\" x=\"29.5\" y=\"-14.3\" font-family=\"Times,serif\" font-size=\"14.00\">x3</text>\n</g>\n<!-- x3&#45;&gt;x2 -->\n<g id=\"edge2\" class=\"edge\">\n<title>x3&#45;&gt;x2</title>\n<path fill=\"none\" stroke=\"black\" d=\"M54.71,-24.54C67.14,-27.89 82.51,-32.04 96.15,-35.73\"/>\n<polygon fill=\"black\" stroke=\"black\" points=\"95.6,-39.2 106.17,-38.43 97.43,-32.44 95.6,-39.2\"/>\n<text text-anchor=\"middle\" x=\"80.5\" y=\"-36.8\" font-family=\"Times,serif\" font-size=\"14.00\">b´</text>\n</g>\n</g>\n</svg>\n",
            "text/plain": [
              "<graphviz.graphs.Digraph at 0x7d83b01d06d0>"
            ]
          },
          "metadata": {}
        },
        {
          "name": "stdout",
          "output_type": "stream",
          "text": [
            "Matriz de adyacencia A =\n",
            " [[0 1 0]\n",
            " [0 0 0]\n",
            " [0 1 0]]\n",
            "Matriz de adyacencia signada B =\n",
            " [[ 0  1  0]\n",
            " [-1  0 -1]\n",
            " [ 0  1  0]]\n",
            "Ingrese el numero del nodo que quiere mutar: 1\n"
          ]
        },
        {
          "output_type": "display_data",
          "data": {
            "image/svg+xml": "<?xml version=\"1.0\" encoding=\"UTF-8\" standalone=\"no\"?>\n<!DOCTYPE svg PUBLIC \"-//W3C//DTD SVG 1.1//EN\"\n \"http://www.w3.org/Graphics/SVG/1.1/DTD/svg11.dtd\">\n<!-- Generated by graphviz version 2.43.0 (0)\n -->\n<!-- Title: %3 Pages: 1 -->\n<svg width=\"260pt\" height=\"67pt\"\n viewBox=\"0.00 0.00 260.00 67.00\" xmlns=\"http://www.w3.org/2000/svg\" xmlns:xlink=\"http://www.w3.org/1999/xlink\">\n<g id=\"graph0\" class=\"graph\" transform=\"scale(1 1) rotate(0) translate(4 63)\">\n<title>%3</title>\n<polygon fill=\"white\" stroke=\"transparent\" points=\"-4,4 -4,-63 256,-63 256,4 -4,4\"/>\n<text text-anchor=\"middle\" x=\"126\" y=\"-43.8\" font-family=\"Times,serif\" font-size=\"14.00\">U1(U2(U3(U1(U2(U3(A3))))))</text>\n<!-- x1 -->\n<g id=\"node1\" class=\"node\">\n<title>x1</title>\n<ellipse fill=\"none\" stroke=\"black\" cx=\"225\" cy=\"-18\" rx=\"27\" ry=\"18\"/>\n<text text-anchor=\"middle\" x=\"225\" y=\"-14.3\" font-family=\"Times,serif\" font-size=\"14.00\">x1</text>\n</g>\n<!-- x2 -->\n<g id=\"node2\" class=\"node\">\n<title>x2</title>\n<ellipse fill=\"none\" stroke=\"black\" cx=\"124\" cy=\"-18\" rx=\"27\" ry=\"18\"/>\n<text text-anchor=\"middle\" x=\"124\" y=\"-14.3\" font-family=\"Times,serif\" font-size=\"14.00\">x2</text>\n</g>\n<!-- x2&#45;&gt;x1 -->\n<g id=\"edge1\" class=\"edge\">\n<title>x2&#45;&gt;x1</title>\n<path fill=\"none\" stroke=\"black\" d=\"M151.01,-18C162.18,-18 175.42,-18 187.54,-18\"/>\n<polygon fill=\"black\" stroke=\"black\" points=\"187.82,-21.5 197.82,-18 187.82,-14.5 187.82,-21.5\"/>\n<text text-anchor=\"middle\" x=\"174.5\" y=\"-21.8\" font-family=\"Times,serif\" font-size=\"14.00\">a´</text>\n</g>\n<!-- x3 -->\n<g id=\"node3\" class=\"node\">\n<title>x3</title>\n<ellipse fill=\"none\" stroke=\"black\" cx=\"27\" cy=\"-18\" rx=\"27\" ry=\"18\"/>\n<text text-anchor=\"middle\" x=\"27\" y=\"-14.3\" font-family=\"Times,serif\" font-size=\"14.00\">x3</text>\n</g>\n<!-- x3&#45;&gt;x2 -->\n<g id=\"edge2\" class=\"edge\">\n<title>x3&#45;&gt;x2</title>\n<path fill=\"none\" stroke=\"black\" d=\"M54.21,-18C64.28,-18 75.96,-18 86.81,-18\"/>\n<polygon fill=\"black\" stroke=\"black\" points=\"86.87,-21.5 96.87,-18 86.87,-14.5 86.87,-21.5\"/>\n<text text-anchor=\"middle\" x=\"75.5\" y=\"-21.8\" font-family=\"Times,serif\" font-size=\"14.00\">b</text>\n</g>\n</g>\n</svg>\n",
            "text/plain": [
              "<graphviz.graphs.Digraph at 0x7d83b01d3f70>"
            ]
          },
          "metadata": {}
        },
        {
          "name": "stdout",
          "output_type": "stream",
          "text": [
            "Matriz de adyacencia A =\n",
            " [[0 0 0]\n",
            " [1 0 0]\n",
            " [0 1 0]]\n",
            "Matriz de adyacencia signada B =\n",
            " [[ 0 -1  0]\n",
            " [ 1  0 -1]\n",
            " [ 0  1  0]]\n",
            "Ingrese el numero del nodo que quiere mutar: 3\n"
          ]
        },
        {
          "output_type": "display_data",
          "data": {
            "image/svg+xml": "<?xml version=\"1.0\" encoding=\"UTF-8\" standalone=\"no\"?>\n<!DOCTYPE svg PUBLIC \"-//W3C//DTD SVG 1.1//EN\"\n \"http://www.w3.org/Graphics/SVG/1.1/DTD/svg11.dtd\">\n<!-- Generated by graphviz version 2.43.0 (0)\n -->\n<!-- Title: %3 Pages: 1 -->\n<svg width=\"220pt\" height=\"121pt\"\n viewBox=\"0.00 0.00 220.00 121.00\" xmlns=\"http://www.w3.org/2000/svg\" xmlns:xlink=\"http://www.w3.org/1999/xlink\">\n<g id=\"graph0\" class=\"graph\" transform=\"scale(1 1) rotate(0) translate(4 117)\">\n<title>%3</title>\n<polygon fill=\"white\" stroke=\"transparent\" points=\"-4,4 -4,-117 216,-117 216,4 -4,4\"/>\n<text text-anchor=\"middle\" x=\"106\" y=\"-97.8\" font-family=\"Times,serif\" font-size=\"14.00\">U3(U1(U2(U3(U1(U2(U3(A3)))))))</text>\n<!-- x1 -->\n<g id=\"node1\" class=\"node\">\n<title>x1</title>\n<ellipse fill=\"none\" stroke=\"black\" cx=\"154.5\" cy=\"-72\" rx=\"27\" ry=\"18\"/>\n<text text-anchor=\"middle\" x=\"154.5\" y=\"-68.3\" font-family=\"Times,serif\" font-size=\"14.00\">x1</text>\n</g>\n<!-- x2 -->\n<g id=\"node2\" class=\"node\">\n<title>x2</title>\n<ellipse fill=\"none\" stroke=\"black\" cx=\"57.5\" cy=\"-45\" rx=\"27\" ry=\"18\"/>\n<text text-anchor=\"middle\" x=\"57.5\" y=\"-41.3\" font-family=\"Times,serif\" font-size=\"14.00\">x2</text>\n</g>\n<!-- x2&#45;&gt;x1 -->\n<g id=\"edge1\" class=\"edge\">\n<title>x2&#45;&gt;x1</title>\n<path fill=\"none\" stroke=\"black\" d=\"M82.96,-51.95C94.13,-55.13 107.54,-58.94 119.65,-62.38\"/>\n<polygon fill=\"black\" stroke=\"black\" points=\"118.87,-65.8 129.45,-65.16 120.78,-59.06 118.87,-65.8\"/>\n<text text-anchor=\"middle\" x=\"106\" y=\"-62.8\" font-family=\"Times,serif\" font-size=\"14.00\">a</text>\n</g>\n<!-- x3 -->\n<g id=\"node3\" class=\"node\">\n<title>x3</title>\n<ellipse fill=\"none\" stroke=\"black\" cx=\"154.5\" cy=\"-18\" rx=\"27\" ry=\"18\"/>\n<text text-anchor=\"middle\" x=\"154.5\" y=\"-14.3\" font-family=\"Times,serif\" font-size=\"14.00\">x3</text>\n</g>\n<!-- x2&#45;&gt;x3 -->\n<g id=\"edge2\" class=\"edge\">\n<title>x2&#45;&gt;x3</title>\n<path fill=\"none\" stroke=\"black\" d=\"M82.96,-38.05C94.13,-34.87 107.54,-31.06 119.65,-27.62\"/>\n<polygon fill=\"black\" stroke=\"black\" points=\"120.78,-30.94 129.45,-24.84 118.87,-24.2 120.78,-30.94\"/>\n<text text-anchor=\"middle\" x=\"106\" y=\"-35.8\" font-family=\"Times,serif\" font-size=\"14.00\">b</text>\n</g>\n</g>\n</svg>\n",
            "text/plain": [
              "<graphviz.graphs.Digraph at 0x7d83b01d3b20>"
            ]
          },
          "metadata": {}
        },
        {
          "name": "stdout",
          "output_type": "stream",
          "text": [
            "Matriz de adyacencia A =\n",
            " [[0 0 0]\n",
            " [1 0 1]\n",
            " [0 0 0]]\n",
            "Matriz de adyacencia signada B =\n",
            " [[ 0 -1  0]\n",
            " [ 1  0  1]\n",
            " [ 0 -1  0]]\n",
            "Ingrese el numero del nodo que quiere mutar: 2\n"
          ]
        },
        {
          "output_type": "display_data",
          "data": {
            "image/svg+xml": "<?xml version=\"1.0\" encoding=\"UTF-8\" standalone=\"no\"?>\n<!DOCTYPE svg PUBLIC \"-//W3C//DTD SVG 1.1//EN\"\n \"http://www.w3.org/Graphics/SVG/1.1/DTD/svg11.dtd\">\n<!-- Generated by graphviz version 2.43.0 (0)\n -->\n<!-- Title: %3 Pages: 1 -->\n<svg width=\"245pt\" height=\"121pt\"\n viewBox=\"0.00 0.00 245.00 121.00\" xmlns=\"http://www.w3.org/2000/svg\" xmlns:xlink=\"http://www.w3.org/1999/xlink\">\n<g id=\"graph0\" class=\"graph\" transform=\"scale(1 1) rotate(0) translate(4 117)\">\n<title>%3</title>\n<polygon fill=\"white\" stroke=\"transparent\" points=\"-4,4 -4,-117 241,-117 241,4 -4,4\"/>\n<text text-anchor=\"middle\" x=\"118.5\" y=\"-97.8\" font-family=\"Times,serif\" font-size=\"14.00\">U2(U3(U1(U2(U3(U1(U2(U3(A3))))))))</text>\n<!-- x1 -->\n<g id=\"node1\" class=\"node\">\n<title>x1</title>\n<ellipse fill=\"none\" stroke=\"black\" cx=\"67.5\" cy=\"-72\" rx=\"27\" ry=\"18\"/>\n<text text-anchor=\"middle\" x=\"67.5\" y=\"-68.3\" font-family=\"Times,serif\" font-size=\"14.00\">x1</text>\n</g>\n<!-- x2 -->\n<g id=\"node2\" class=\"node\">\n<title>x2</title>\n<ellipse fill=\"none\" stroke=\"black\" cx=\"169.5\" cy=\"-45\" rx=\"27\" ry=\"18\"/>\n<text text-anchor=\"middle\" x=\"169.5\" y=\"-41.3\" font-family=\"Times,serif\" font-size=\"14.00\">x2</text>\n</g>\n<!-- x1&#45;&gt;x2 -->\n<g id=\"edge1\" class=\"edge\">\n<title>x1&#45;&gt;x2</title>\n<path fill=\"none\" stroke=\"black\" d=\"M92.71,-65.46C105.14,-62.11 120.51,-57.96 134.15,-54.27\"/>\n<polygon fill=\"black\" stroke=\"black\" points=\"135.43,-57.56 144.17,-51.57 133.6,-50.8 135.43,-57.56\"/>\n<text text-anchor=\"middle\" x=\"118.5\" y=\"-63.8\" font-family=\"Times,serif\" font-size=\"14.00\">a´</text>\n</g>\n<!-- x3 -->\n<g id=\"node3\" class=\"node\">\n<title>x3</title>\n<ellipse fill=\"none\" stroke=\"black\" cx=\"67.5\" cy=\"-18\" rx=\"27\" ry=\"18\"/>\n<text text-anchor=\"middle\" x=\"67.5\" y=\"-14.3\" font-family=\"Times,serif\" font-size=\"14.00\">x3</text>\n</g>\n<!-- x3&#45;&gt;x2 -->\n<g id=\"edge2\" class=\"edge\">\n<title>x3&#45;&gt;x2</title>\n<path fill=\"none\" stroke=\"black\" d=\"M92.71,-24.54C105.14,-27.89 120.51,-32.04 134.15,-35.73\"/>\n<polygon fill=\"black\" stroke=\"black\" points=\"133.6,-39.2 144.17,-38.43 135.43,-32.44 133.6,-39.2\"/>\n<text text-anchor=\"middle\" x=\"118.5\" y=\"-36.8\" font-family=\"Times,serif\" font-size=\"14.00\">b´</text>\n</g>\n</g>\n</svg>\n",
            "text/plain": [
              "<graphviz.graphs.Digraph at 0x7d83b01d2e00>"
            ]
          },
          "metadata": {}
        },
        {
          "name": "stdout",
          "output_type": "stream",
          "text": [
            "Matriz de adyacencia A =\n",
            " [[0 1 0]\n",
            " [0 0 0]\n",
            " [0 1 0]]\n",
            "Matriz de adyacencia signada B =\n",
            " [[ 0  1  0]\n",
            " [-1  0 -1]\n",
            " [ 0  1  0]]\n",
            "Ingrese el numero del nodo que quiere mutar: 1\n"
          ]
        },
        {
          "output_type": "display_data",
          "data": {
            "image/svg+xml": "<?xml version=\"1.0\" encoding=\"UTF-8\" standalone=\"no\"?>\n<!DOCTYPE svg PUBLIC \"-//W3C//DTD SVG 1.1//EN\"\n \"http://www.w3.org/Graphics/SVG/1.1/DTD/svg11.dtd\">\n<!-- Generated by graphviz version 2.43.0 (0)\n -->\n<!-- Title: %3 Pages: 1 -->\n<svg width=\"271pt\" height=\"67pt\"\n viewBox=\"0.00 0.00 271.00 67.00\" xmlns=\"http://www.w3.org/2000/svg\" xmlns:xlink=\"http://www.w3.org/1999/xlink\">\n<g id=\"graph0\" class=\"graph\" transform=\"scale(1 1) rotate(0) translate(4 63)\">\n<title>%3</title>\n<polygon fill=\"white\" stroke=\"transparent\" points=\"-4,4 -4,-63 267,-63 267,4 -4,4\"/>\n<text text-anchor=\"middle\" x=\"131.5\" y=\"-43.8\" font-family=\"Times,serif\" font-size=\"14.00\">U1(U2(U3(U1(U2(U3(U1(U2(U3(A3)))))))))</text>\n<!-- x1 -->\n<g id=\"node1\" class=\"node\">\n<title>x1</title>\n<ellipse fill=\"none\" stroke=\"black\" cx=\"230.5\" cy=\"-18\" rx=\"27\" ry=\"18\"/>\n<text text-anchor=\"middle\" x=\"230.5\" y=\"-14.3\" font-family=\"Times,serif\" font-size=\"14.00\">x1</text>\n</g>\n<!-- x2 -->\n<g id=\"node2\" class=\"node\">\n<title>x2</title>\n<ellipse fill=\"none\" stroke=\"black\" cx=\"129.5\" cy=\"-18\" rx=\"27\" ry=\"18\"/>\n<text text-anchor=\"middle\" x=\"129.5\" y=\"-14.3\" font-family=\"Times,serif\" font-size=\"14.00\">x2</text>\n</g>\n<!-- x2&#45;&gt;x1 -->\n<g id=\"edge1\" class=\"edge\">\n<title>x2&#45;&gt;x1</title>\n<path fill=\"none\" stroke=\"black\" d=\"M156.51,-18C167.68,-18 180.92,-18 193.04,-18\"/>\n<polygon fill=\"black\" stroke=\"black\" points=\"193.32,-21.5 203.32,-18 193.32,-14.5 193.32,-21.5\"/>\n<text text-anchor=\"middle\" x=\"180\" y=\"-21.8\" font-family=\"Times,serif\" font-size=\"14.00\">a´</text>\n</g>\n<!-- x3 -->\n<g id=\"node3\" class=\"node\">\n<title>x3</title>\n<ellipse fill=\"none\" stroke=\"black\" cx=\"32.5\" cy=\"-18\" rx=\"27\" ry=\"18\"/>\n<text text-anchor=\"middle\" x=\"32.5\" y=\"-14.3\" font-family=\"Times,serif\" font-size=\"14.00\">x3</text>\n</g>\n<!-- x3&#45;&gt;x2 -->\n<g id=\"edge2\" class=\"edge\">\n<title>x3&#45;&gt;x2</title>\n<path fill=\"none\" stroke=\"black\" d=\"M59.71,-18C69.78,-18 81.46,-18 92.31,-18\"/>\n<polygon fill=\"black\" stroke=\"black\" points=\"92.37,-21.5 102.37,-18 92.37,-14.5 92.37,-21.5\"/>\n<text text-anchor=\"middle\" x=\"81\" y=\"-21.8\" font-family=\"Times,serif\" font-size=\"14.00\">b</text>\n</g>\n</g>\n</svg>\n",
            "text/plain": [
              "<graphviz.graphs.Digraph at 0x7d83b01d2c50>"
            ]
          },
          "metadata": {}
        },
        {
          "name": "stdout",
          "output_type": "stream",
          "text": [
            "Matriz de adyacencia A =\n",
            " [[0 0 0]\n",
            " [1 0 0]\n",
            " [0 1 0]]\n",
            "Matriz de adyacencia signada B =\n",
            " [[ 0 -1  0]\n",
            " [ 1  0 -1]\n",
            " [ 0  1  0]]\n",
            "Ingrese el numero del nodo que quiere mutar: 3\n"
          ]
        },
        {
          "output_type": "display_data",
          "data": {
            "image/svg+xml": "<?xml version=\"1.0\" encoding=\"UTF-8\" standalone=\"no\"?>\n<!DOCTYPE svg PUBLIC \"-//W3C//DTD SVG 1.1//EN\"\n \"http://www.w3.org/Graphics/SVG/1.1/DTD/svg11.dtd\">\n<!-- Generated by graphviz version 2.43.0 (0)\n -->\n<!-- Title: %3 Pages: 1 -->\n<svg width=\"296pt\" height=\"121pt\"\n viewBox=\"0.00 0.00 296.00 121.00\" xmlns=\"http://www.w3.org/2000/svg\" xmlns:xlink=\"http://www.w3.org/1999/xlink\">\n<g id=\"graph0\" class=\"graph\" transform=\"scale(1 1) rotate(0) translate(4 117)\">\n<title>%3</title>\n<polygon fill=\"white\" stroke=\"transparent\" points=\"-4,4 -4,-117 292,-117 292,4 -4,4\"/>\n<text text-anchor=\"middle\" x=\"144\" y=\"-97.8\" font-family=\"Times,serif\" font-size=\"14.00\">U3(U1(U2(U3(U1(U2(U3(U1(U2(U3(A3))))))))))</text>\n<!-- x1 -->\n<g id=\"node1\" class=\"node\">\n<title>x1</title>\n<ellipse fill=\"none\" stroke=\"black\" cx=\"192.5\" cy=\"-72\" rx=\"27\" ry=\"18\"/>\n<text text-anchor=\"middle\" x=\"192.5\" y=\"-68.3\" font-family=\"Times,serif\" font-size=\"14.00\">x1</text>\n</g>\n<!-- x2 -->\n<g id=\"node2\" class=\"node\">\n<title>x2</title>\n<ellipse fill=\"none\" stroke=\"black\" cx=\"95.5\" cy=\"-45\" rx=\"27\" ry=\"18\"/>\n<text text-anchor=\"middle\" x=\"95.5\" y=\"-41.3\" font-family=\"Times,serif\" font-size=\"14.00\">x2</text>\n</g>\n<!-- x2&#45;&gt;x1 -->\n<g id=\"edge1\" class=\"edge\">\n<title>x2&#45;&gt;x1</title>\n<path fill=\"none\" stroke=\"black\" d=\"M120.96,-51.95C132.13,-55.13 145.54,-58.94 157.65,-62.38\"/>\n<polygon fill=\"black\" stroke=\"black\" points=\"156.87,-65.8 167.45,-65.16 158.78,-59.06 156.87,-65.8\"/>\n<text text-anchor=\"middle\" x=\"144\" y=\"-62.8\" font-family=\"Times,serif\" font-size=\"14.00\">a</text>\n</g>\n<!-- x3 -->\n<g id=\"node3\" class=\"node\">\n<title>x3</title>\n<ellipse fill=\"none\" stroke=\"black\" cx=\"192.5\" cy=\"-18\" rx=\"27\" ry=\"18\"/>\n<text text-anchor=\"middle\" x=\"192.5\" y=\"-14.3\" font-family=\"Times,serif\" font-size=\"14.00\">x3</text>\n</g>\n<!-- x2&#45;&gt;x3 -->\n<g id=\"edge2\" class=\"edge\">\n<title>x2&#45;&gt;x3</title>\n<path fill=\"none\" stroke=\"black\" d=\"M120.96,-38.05C132.13,-34.87 145.54,-31.06 157.65,-27.62\"/>\n<polygon fill=\"black\" stroke=\"black\" points=\"158.78,-30.94 167.45,-24.84 156.87,-24.2 158.78,-30.94\"/>\n<text text-anchor=\"middle\" x=\"144\" y=\"-35.8\" font-family=\"Times,serif\" font-size=\"14.00\">b</text>\n</g>\n</g>\n</svg>\n",
            "text/plain": [
              "<graphviz.graphs.Digraph at 0x7d83b01d32b0>"
            ]
          },
          "metadata": {}
        },
        {
          "name": "stdout",
          "output_type": "stream",
          "text": [
            "Matriz de adyacencia A =\n",
            " [[0 0 0]\n",
            " [1 0 1]\n",
            " [0 0 0]]\n",
            "Matriz de adyacencia signada B =\n",
            " [[ 0 -1  0]\n",
            " [ 1  0  1]\n",
            " [ 0 -1  0]]\n",
            "Ingrese el numero del nodo que quiere mutar: 2\n"
          ]
        },
        {
          "output_type": "display_data",
          "data": {
            "image/svg+xml": "<?xml version=\"1.0\" encoding=\"UTF-8\" standalone=\"no\"?>\n<!DOCTYPE svg PUBLIC \"-//W3C//DTD SVG 1.1//EN\"\n \"http://www.w3.org/Graphics/SVG/1.1/DTD/svg11.dtd\">\n<!-- Generated by graphviz version 2.43.0 (0)\n -->\n<!-- Title: %3 Pages: 1 -->\n<svg width=\"322pt\" height=\"121pt\"\n viewBox=\"0.00 0.00 322.00 121.00\" xmlns=\"http://www.w3.org/2000/svg\" xmlns:xlink=\"http://www.w3.org/1999/xlink\">\n<g id=\"graph0\" class=\"graph\" transform=\"scale(1 1) rotate(0) translate(4 117)\">\n<title>%3</title>\n<polygon fill=\"white\" stroke=\"transparent\" points=\"-4,4 -4,-117 318,-117 318,4 -4,4\"/>\n<text text-anchor=\"middle\" x=\"157\" y=\"-97.8\" font-family=\"Times,serif\" font-size=\"14.00\">U2(U3(U1(U2(U3(U1(U2(U3(U1(U2(U3(A3)))))))))))</text>\n<!-- x1 -->\n<g id=\"node1\" class=\"node\">\n<title>x1</title>\n<ellipse fill=\"none\" stroke=\"black\" cx=\"106\" cy=\"-72\" rx=\"27\" ry=\"18\"/>\n<text text-anchor=\"middle\" x=\"106\" y=\"-68.3\" font-family=\"Times,serif\" font-size=\"14.00\">x1</text>\n</g>\n<!-- x2 -->\n<g id=\"node2\" class=\"node\">\n<title>x2</title>\n<ellipse fill=\"none\" stroke=\"black\" cx=\"208\" cy=\"-45\" rx=\"27\" ry=\"18\"/>\n<text text-anchor=\"middle\" x=\"208\" y=\"-41.3\" font-family=\"Times,serif\" font-size=\"14.00\">x2</text>\n</g>\n<!-- x1&#45;&gt;x2 -->\n<g id=\"edge1\" class=\"edge\">\n<title>x1&#45;&gt;x2</title>\n<path fill=\"none\" stroke=\"black\" d=\"M131.21,-65.46C143.64,-62.11 159.01,-57.96 172.65,-54.27\"/>\n<polygon fill=\"black\" stroke=\"black\" points=\"173.93,-57.56 182.67,-51.57 172.1,-50.8 173.93,-57.56\"/>\n<text text-anchor=\"middle\" x=\"157\" y=\"-63.8\" font-family=\"Times,serif\" font-size=\"14.00\">a´</text>\n</g>\n<!-- x3 -->\n<g id=\"node3\" class=\"node\">\n<title>x3</title>\n<ellipse fill=\"none\" stroke=\"black\" cx=\"106\" cy=\"-18\" rx=\"27\" ry=\"18\"/>\n<text text-anchor=\"middle\" x=\"106\" y=\"-14.3\" font-family=\"Times,serif\" font-size=\"14.00\">x3</text>\n</g>\n<!-- x3&#45;&gt;x2 -->\n<g id=\"edge2\" class=\"edge\">\n<title>x3&#45;&gt;x2</title>\n<path fill=\"none\" stroke=\"black\" d=\"M131.21,-24.54C143.64,-27.89 159.01,-32.04 172.65,-35.73\"/>\n<polygon fill=\"black\" stroke=\"black\" points=\"172.1,-39.2 182.67,-38.43 173.93,-32.44 172.1,-39.2\"/>\n<text text-anchor=\"middle\" x=\"157\" y=\"-36.8\" font-family=\"Times,serif\" font-size=\"14.00\">b´</text>\n</g>\n</g>\n</svg>\n",
            "text/plain": [
              "<graphviz.graphs.Digraph at 0x7d83b01d3f70>"
            ]
          },
          "metadata": {}
        },
        {
          "name": "stdout",
          "output_type": "stream",
          "text": [
            "Matriz de adyacencia A =\n",
            " [[0 1 0]\n",
            " [0 0 0]\n",
            " [0 1 0]]\n",
            "Matriz de adyacencia signada B =\n",
            " [[ 0  1  0]\n",
            " [-1  0 -1]\n",
            " [ 0  1  0]]\n",
            "Ingrese el numero del nodo que quiere mutar: 67\n"
          ]
        }
      ]
    },
    {
      "cell_type": "code",
      "source": [
        "import numpy as np\n",
        "import random as rd\n",
        "\n",
        "def estado_persona(papas, vecinos):\n",
        "    mitad_papas = papas / 2\n",
        "    if papas > vecinos:\n",
        "        return \"Emocionada\"\n",
        "    elif papas == vecinos:\n",
        "        return \"Feliz\"\n",
        "    else:\n",
        "        return \"Infeliz\"\n",
        "\n",
        "def repartir_papas(matriz_adyacencia,n_personas,ciclo=0):\n",
        "    # Creamos una matriz de adyacencia inicializando todas las entradas a 0\n",
        "    matriz_estado=[''  for _ in range(n_personas)]\n",
        "    matriz_estado2 = np.zeros((n_personas))\n",
        "    estado=\"\"\n",
        "    # Distribución inicial de papas fritas\n",
        "    for i in range(n_personas):\n",
        "      matriz_adyacencia[i]=matriz_adyacencia[i] + rd.randint(1,10)\n",
        "    for i in range(n_personas):\n",
        "      if(i==0):\n",
        "        vecinos=(matriz_adyacencia[i+1]+matriz_adyacencia[n_personas-1])/2\n",
        "        estado=estado_persona(matriz_adyacencia[i],vecinos)\n",
        "        matriz_estado[i]=estado\n",
        "        if(estado==\"Emocionada\"):\n",
        "          matriz_estado2[i]=1\n",
        "        elif(estado==\"Feliz\"):\n",
        "          matriz_estado2[i]=1\n",
        "      elif(i==n_personas-1):\n",
        "        vecinos=(matriz_adyacencia[i-1]-matriz_adyacencia[0])/2\n",
        "        estado=estado_persona(matriz_adyacencia[i],vecinos)\n",
        "        matriz_estado[i]=estado\n",
        "        if(estado==\"Emocionada\"):\n",
        "          matriz_estado2[i]=1\n",
        "        elif(estado==\"Feliz\"):\n",
        "          matriz_estado2[i]=1\n",
        "      else:\n",
        "        vecinos=(matriz_adyacencia[i-1]+matriz_adyacencia[i+1])/2\n",
        "        estado=estado_persona(matriz_adyacencia[i],vecinos)\n",
        "        matriz_estado[i]=estado\n",
        "        if(estado==\"Emocionada\"):\n",
        "          matriz_estado2[i]=1\n",
        "        elif(estado==\"Feliz\"):\n",
        "          matriz_estado2[i]=1\n",
        "    print(\"\\nCICLO:\",ciclo)\n",
        "    for i in range(n_personas):\n",
        "      print(f\"Persona{i}:\",matriz_adyacencia[i],\"(\",matriz_estado[i],\")\")\n",
        "      #print(matriz_estado)\n",
        "    mul=1\n",
        "    for i in range(n_personas):\n",
        "      mul=mul*matriz_estado2[i]\n",
        "    if(mul==1.0):\n",
        "      return\n",
        "    else:\n",
        "      repartir_papas(matriz_adyacencia,n_personas,ciclo+1)\n",
        "\n",
        "    # Bucle para asignar las papas fritas a cada persona\n",
        "\n",
        "\n",
        "# Número de personas\n",
        "n_personas = 5\n",
        "matriz_adyacencia = np.zeros((n_personas))\n",
        "\n",
        "# Ejecutar el juego\n",
        "repartir_papas(matriz_adyacencia,n_personas)"
      ],
      "metadata": {
        "colab": {
          "base_uri": "https://localhost:8080/"
        },
        "id": "SML4sSPRMmUM",
        "outputId": "c93e877a-33b2-45ec-d581-bd203aa52d44"
      },
      "execution_count": null,
      "outputs": [
        {
          "output_type": "stream",
          "name": "stdout",
          "text": [
            "\n",
            "CICLO: 0\n",
            "Persona0: 3.0 ( Infeliz )\n",
            "Persona1: 8.0 ( Emocionada )\n",
            "Persona2: 7.0 ( Infeliz )\n",
            "Persona3: 9.0 ( Emocionada )\n",
            "Persona4: 5.0 ( Emocionada )\n",
            "\n",
            "CICLO: 1\n",
            "Persona0: 5.0 ( Infeliz )\n",
            "Persona1: 10.0 ( Emocionada )\n",
            "Persona2: 8.0 ( Infeliz )\n",
            "Persona3: 11.0 ( Emocionada )\n",
            "Persona4: 9.0 ( Emocionada )\n",
            "\n",
            "CICLO: 2\n",
            "Persona0: 13.0 ( Infeliz )\n",
            "Persona1: 19.0 ( Emocionada )\n",
            "Persona2: 18.0 ( Infeliz )\n",
            "Persona3: 20.0 ( Emocionada )\n",
            "Persona4: 10.0 ( Emocionada )\n",
            "\n",
            "CICLO: 3\n",
            "Persona0: 23.0 ( Emocionada )\n",
            "Persona1: 20.0 ( Infeliz )\n",
            "Persona2: 20.0 ( Infeliz )\n",
            "Persona3: 21.0 ( Emocionada )\n",
            "Persona4: 14.0 ( Emocionada )\n",
            "\n",
            "CICLO: 4\n",
            "Persona0: 31.0 ( Emocionada )\n",
            "Persona1: 27.0 ( Emocionada )\n",
            "Persona2: 21.0 ( Infeliz )\n",
            "Persona3: 23.0 ( Emocionada )\n",
            "Persona4: 18.0 ( Emocionada )\n",
            "\n",
            "CICLO: 5\n",
            "Persona0: 33.0 ( Emocionada )\n",
            "Persona1: 28.0 ( Infeliz )\n",
            "Persona2: 25.0 ( Infeliz )\n",
            "Persona3: 33.0 ( Emocionada )\n",
            "Persona4: 23.0 ( Emocionada )\n",
            "\n",
            "CICLO: 6\n",
            "Persona0: 36.0 ( Emocionada )\n",
            "Persona1: 31.0 ( Infeliz )\n",
            "Persona2: 28.0 ( Infeliz )\n",
            "Persona3: 39.0 ( Emocionada )\n",
            "Persona4: 24.0 ( Emocionada )\n",
            "\n",
            "CICLO: 7\n",
            "Persona0: 38.0 ( Emocionada )\n",
            "Persona1: 39.0 ( Emocionada )\n",
            "Persona2: 31.0 ( Infeliz )\n",
            "Persona3: 42.0 ( Emocionada )\n",
            "Persona4: 26.0 ( Emocionada )\n",
            "\n",
            "CICLO: 8\n",
            "Persona0: 45.0 ( Emocionada )\n",
            "Persona1: 44.0 ( Emocionada )\n",
            "Persona2: 33.0 ( Infeliz )\n",
            "Persona3: 48.0 ( Emocionada )\n",
            "Persona4: 32.0 ( Emocionada )\n",
            "\n",
            "CICLO: 9\n",
            "Persona0: 46.0 ( Emocionada )\n",
            "Persona1: 48.0 ( Emocionada )\n",
            "Persona2: 39.0 ( Infeliz )\n",
            "Persona3: 50.0 ( Emocionada )\n",
            "Persona4: 33.0 ( Emocionada )\n",
            "\n",
            "CICLO: 10\n",
            "Persona0: 52.0 ( Emocionada )\n",
            "Persona1: 55.0 ( Emocionada )\n",
            "Persona2: 44.0 ( Infeliz )\n",
            "Persona3: 59.0 ( Emocionada )\n",
            "Persona4: 37.0 ( Emocionada )\n",
            "\n",
            "CICLO: 11\n",
            "Persona0: 53.0 ( Infeliz )\n",
            "Persona1: 63.0 ( Emocionada )\n",
            "Persona2: 53.0 ( Infeliz )\n",
            "Persona3: 63.0 ( Emocionada )\n",
            "Persona4: 44.0 ( Emocionada )\n",
            "\n",
            "CICLO: 12\n",
            "Persona0: 56.0 ( Infeliz )\n",
            "Persona1: 68.0 ( Emocionada )\n",
            "Persona2: 62.0 ( Infeliz )\n",
            "Persona3: 73.0 ( Emocionada )\n",
            "Persona4: 52.0 ( Emocionada )\n",
            "\n",
            "CICLO: 13\n",
            "Persona0: 66.0 ( Emocionada )\n",
            "Persona1: 76.0 ( Emocionada )\n",
            "Persona2: 72.0 ( Infeliz )\n",
            "Persona3: 74.0 ( Emocionada )\n",
            "Persona4: 53.0 ( Emocionada )\n",
            "\n",
            "CICLO: 14\n",
            "Persona0: 71.0 ( Emocionada )\n",
            "Persona1: 83.0 ( Emocionada )\n",
            "Persona2: 82.0 ( Emocionada )\n",
            "Persona3: 80.0 ( Emocionada )\n",
            "Persona4: 55.0 ( Emocionada )\n"
          ]
        }
      ]
    },
    {
      "cell_type": "code",
      "source": [
        "import numpy as np\n",
        "import matplotlib.pyplot as plt\n",
        "from matplotlib.animation import FuncAnimation\n",
        "\n",
        "# Función para inicializar la animación\n",
        "def init():\n",
        "    point.set_data([], [])\n",
        "    return point,\n",
        "\n",
        "# Función para actualizar la posición del punto en cada cuadro de la animación\n",
        "def update(frame):\n",
        "    x = np.cos(frame)  # Posición x del punto en función del ángulo\n",
        "    y = np.sin(frame)  # Posición y del punto en función del ángulo\n",
        "    point.set_data(x, y)\n",
        "    return point,\n",
        "\n",
        "# Configuración inicial de la figura y el eje\n",
        "fig, ax = plt.subplots()\n",
        "ax.set_xlim(-1.5, 1.5)\n",
        "ax.set_ylim(-1.5, 1.5)\n",
        "ax.set_aspect('equal')\n",
        "ax.grid(True)\n",
        "\n",
        "# Creación del punto inicial en la posición (0, 1)\n",
        "point, = ax.plot([], [], 'bo', markersize=10)\n",
        "\n",
        "# Creación de la animación\n",
        "ani = FuncAnimation(fig, update, frames=np.linspace(0, 2*np.pi, 100),\n",
        "                    init_func=init, blit=True)\n",
        "\n",
        "plt.show()"
      ],
      "metadata": {
        "id": "psHblEvX1v01",
        "outputId": "48d0eb36-08c1-4011-f86e-8396c3949cc0",
        "colab": {
          "base_uri": "https://localhost:8080/",
          "height": 435
        }
      },
      "execution_count": null,
      "outputs": [
        {
          "output_type": "display_data",
          "data": {
            "text/plain": [
              "<Figure size 640x480 with 1 Axes>"
            ],
            "image/png": "[encoded data removed]"
          },
          "metadata": {}
        }
      ]
    },
    {
      "cell_type": "markdown",
      "source": [
        "Grafo de cayley:"
      ],
      "metadata": {
        "id": "YyM-YwAOBRKP"
      }
    },
    {
      "cell_type": "code",
      "source": [
        "import graphviz\n",
        "import numpy as np\n",
        "\n",
        "def graphCayley(subgrupo):\n",
        "  diccionario1 = {\n",
        "    '1':0,\n",
        "    'a':1,\n",
        "    'aa':2,\n",
        "    'aaa':3,\n",
        "    'b':4,\n",
        "    'ab':5,\n",
        "    'aab':6,\n",
        "    'aaab':7,\n",
        "    }\n",
        "  diccionario2 = {\n",
        "    0 : '1',\n",
        "    1 : 'a',\n",
        "    2 : 'aa',\n",
        "    3 : 'aaa',\n",
        "    4 : 'b',\n",
        "    5 : 'ab',\n",
        "    6 : 'aab',\n",
        "    7 : 'aaab',\n",
        "    }\n",
        "  opgrupo=[[0,1,2,3,4,5,6,7],\n",
        "           [1,2,3,0,5,6,7,4],\n",
        "           [2,3,0,1,6,7,4,5],\n",
        "           [3,0,1,2,7,4,5,6],\n",
        "           [4,7,6,5,0,3,2,1],\n",
        "           [5,4,7,6,1,0,3,2],\n",
        "           [6,5,4,7,2,1,0,3],\n",
        "           [7,6,5,4,3,2,1,0]]\n",
        "\n",
        "  subgrupo=subgrupo.split(\",\")\n",
        "  for i in range(0,len(subgrupo)):\n",
        "    subgrupo[i]=diccionario1[subgrupo[i]]\n",
        "\n",
        "  aristas=[]\n",
        "  for i in range(len(opgrupo)):\n",
        "    for j in range(len(subgrupo)):\n",
        "      aristas.append((diccionario2[i],diccionario2[opgrupo[i][subgrupo[j]]],diccionario2[subgrupo[j]]))\n",
        "\n",
        "\n",
        "  # Creamos un objeto Digraph (grafo dirigido)\n",
        "  nodesep=0.5\n",
        "  dot = graphviz.Digraph(graph_attr={'nodesep': str(nodesep)})\n",
        "\n",
        "  # Lista de nodos\n",
        "  nodos = ['1','a','aa','aaa','b','ab','aab','aaab']\n",
        "  nodo_size=1\n",
        "  font_size=30\n",
        "  for nodo in nodos:\n",
        "    dot.node(nodo, width=str(nodo_size),height=str(nodo_size),fontsize=str(font_size))\n",
        "\n",
        "  for inicio, fin, etiqueta in aristas:\n",
        "      dot.edge(inicio, fin, label=etiqueta, color='#000000', fontname=\"Arial Unicode MS\")\n",
        "\n",
        "  dot.attr(layout='circo')\n",
        "\n",
        "  dot.render('GrafoDeCayley', format='png', view=False)\n",
        "\n",
        "  # Mostramos la imagen del grafo\n",
        "  from IPython.display import display, Image\n",
        "  display(Image('GrafoDeCayley.png'))\n",
        "\n",
        "\n",
        "graphCayley(\"a,b\")"
      ],
      "metadata": {
        "colab": {
          "base_uri": "https://localhost:8080/",
          "height": 666
        },
        "id": "QOnojCc0CLSp",
        "outputId": "167a6047-9e96-430e-f9b1-97fe6f3415a2",
        "collapsed": true
      },
      "execution_count": null,
      "outputs": [
        {
          "output_type": "display_data",
          "data": {
            "image/png": "[encoded data removed]",
            "text/plain": [
              "<IPython.core.display.Image object>"
            ]
          },
          "metadata": {}
        }
      ]
    },
    {
      "cell_type": "code",
      "source": [
        "import graphviz\n",
        "\n",
        "def decimalBinario(numero,n):\n",
        "    bin='0'*n\n",
        "    if numero == 0:\n",
        "        return bin\n",
        "    elif numero < 0:\n",
        "        return\n",
        "\n",
        "    binario = ''\n",
        "    while numero > 0:\n",
        "        binario = str(numero % 2) + binario\n",
        "        numero //= 2\n",
        "    if len(binario)<n:\n",
        "      bin='0'*(n-len(binario))\n",
        "      binario=bin+binario\n",
        "    return binario\n",
        "\n",
        "def butterfly(n):\n",
        "  matrix=[]\n",
        "  for i in range(n+1):\n",
        "    matrix.append([])\n",
        "  for i in range(len(matrix)):\n",
        "    for j in range(2**n):\n",
        "      matrix[i].append((decimalBinario(j,n),i))\n",
        "  aristas=[]\n",
        "  for i in range(len(matrix)-1):\n",
        "    for j in range(len(matrix[0])):\n",
        "      aristas.append((str(matrix[i][j]),str(matrix[i+1][j]),''))\n",
        "      for k in matrix[i+1]:\n",
        "        if ((matrix[i][j][0][:i] + matrix[i][j][0][i+1:])==(k[0][:i] + k[0][i+1:])) and (matrix[i][j][0][i]!=k[0][i]):\n",
        "          aristas.append((str(matrix[i][j]),str(k),''))\n",
        "  # Creamos un objeto Digraph (grafo dirigido)\n",
        "  nodesep=0.5\n",
        "  dot = graphviz.Graph(graph_attr={'nodesep': '0.5', 'rankdir': 'LR'})\n",
        "\n",
        "  # Lista de nodos\n",
        "  nodos = []\n",
        "  for i in range(len(matrix)):\n",
        "    for j in range(n):\n",
        "      nodos.append(str(matrix[i][j]))\n",
        "\n",
        "  nodo_size=0.2\n",
        "  font_size=15\n",
        "  for nodo in nodos:\n",
        "    dot.node(nodo, width=str(nodo_size),height=str(nodo_size),fontsize=str(font_size))\n",
        "\n",
        "  for inicio, fin, etiqueta in aristas:\n",
        "      dot.edge(inicio, fin, label=etiqueta, dir= \"none\", color='#000000', fontname=\"Arial Unicode MS\")\n",
        "\n",
        "  dot.attr(layout='dot')\n",
        "\n",
        "  dot.render('GrafoMariposa', format='png', view=False)\n",
        "\n",
        "  # Mostramos la imagen del grafo\n",
        "  from IPython.display import display, Image\n",
        "  display(Image('GrafoMariposa.png'))\n",
        "butterfly(2)"
      ],
      "metadata": {
        "colab": {
          "base_uri": "https://localhost:8080/",
          "height": 363
        },
        "id": "nUFNjbPjt4zu",
        "outputId": "ac307fe8-157b-42af-fb9b-6ba2e467baf2"
      },
      "execution_count": null,
      "outputs": [
        {
          "output_type": "display_data",
          "data": {
            "image/png": "[encoded data removed]",
            "text/plain": [
              "<IPython.core.display.Image object>"
            ]
          },
          "metadata": {}
        }
      ]
    }
  ]
}