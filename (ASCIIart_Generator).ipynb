{
  "nbformat": 4,
  "nbformat_minor": 0,
  "metadata": {
    "colab": {
      "provenance": [],
      "collapsed_sections": [
        "qXdCi1oidmGr",
        "A89KRzr9ea6I",
        "AX-lZ5bw7xUd",
        "YrtBn75t9V7o",
        "CnPo-_8t_iha",
        "HSzfUgCiBTEM"
      ],
      "authorship_tag": "ABX9TyOPDat+3Nv72JeNMJU3Ipjs",
      "include_colab_link": true
    },
    "kernelspec": {
      "display_name": "Python 3",
      "name": "python3"
    }
  },
  "cells": [
    {
      "cell_type": "markdown",
      "metadata": {
        "id": "view-in-github",
        "colab_type": "text"
      },
      "source": [
        "<a href=\"https://colab.research.google.com/github/Ivanchis01/Homeworks-and-other-things/blob/main/(ASCIIart_Generator).ipynb\" target=\"_parent\"><img src=\"https://colab.research.google.com/assets/colab-badge.svg\" alt=\"Open In Colab\"/></a>"
      ]
    },
    {
      "cell_type": "markdown",
      "metadata": {
        "id": "rVxQcgpQU110"
      },
      "source": [
        "#**Generador de código ASCII para la creación de imágenes**\n",
        "\n",
        "Para el proyecto, decidí, realizar un generador de Arte de texto ASCII partiendo de imágenes dadas por el usuario. Esto permite copiar y pegar un texto que da la impresión de tener una imagen mediante el uso de caracteres que simulan la intensidad de la luz en una imagen en escala de grises.\n",
        "\n",
        "En este notebook encontrará primero el codigo completo, y luego un paso a paso, (en caso de ejecutar el paso a paso, debe ejecutar cada celda de código una por una en orden).\n",
        "\n",
        ">Para usarse, debe cargar una imagen al notebook picando el boton de 'Carga archivos al almacenamiento de la sesión', ubicado en la ventana archivos de la parte izquierda de colab. Luego de esto, ejecuta el código, le saldrá un input que le pedirá el nombre del archivo de imagen subido.\n",
        ">\n",
        ">El programa procesará la imagen y arrojara como resultado, un archivo rescalado de la imagen original y en escala de grises, y un archivo texto donde se encuentra el texto de arte ASCII. Para visualizarlos solo debe dar doble click al archivo salida.jpg o ASCII_ART.txt respectivamente."
      ]
    },
    {
      "cell_type": "markdown",
      "metadata": {
        "id": "8yAXdFMhWrI-"
      },
      "source": [
        "###Código completo"
      ]
    },
    {
      "cell_type": "code",
      "metadata": {
        "id": "zUaTqf2lHN4e",
        "colab": {
          "base_uri": "https://localhost:8080/"
        },
        "outputId": "9790a6ba-e62d-4c25-b3cd-ec166fde3fc1"
      },
      "source": [
        "from PIL import Image                                                           #Importamos el modulo Image de la librería Pillow\n",
        "from math import floor\n",
        "\n",
        "    #Datos\n",
        "simbolos_ASCII=list('\" .,:ilwW\";')                                                  #Definimos una serie de simbolos a usar, simulando la intensidad en una imagen\n",
        "destino=input('Inserte el nombre de un archivo de imagen en una ruta válida')   #Pedimos al usuario el nombre de un archivo de imagen, incluyendo la extención del archivo, para guardarla en una variable que luego usaremos para leer más facilmente\n",
        "imagen=Image.open(destino)                                                      #Abrimos la imagen a usar desdelos archivos del proyecto y la guardamos en la variable imagen\n",
        "texto=open('ASCII_ART.txt','w')                                                 #Creamos y abrimos un archivo de texto en el cual escribiremos la imagen ASCII, usamos como argumento el modo 'w' lo que significa que crea un archivo de texto si el archivo no existe, y de ya existir, lo sobrescribe\n",
        "ancho,alto=imagen.size                                                          #Definimos las variables de altura y anchura de la imagen\n",
        "constante=(len(simbolos_ASCII))/255                                             #Hallamos una constante para asignar los simbolos a pixeles, dividiendo el número de caracteres en la lista simbolos_ASCII por 255, esto es ya que 255 es el numero máximo que puede tomar el codigo de un codigo de color\n",
        "\n",
        "    #Funciones\n",
        "def caracter(g):                                                                #Definimos una función para asignar un caracter a un pixel\n",
        "  char=floor(g*constante)-1                                                     #Obtenemos una variable char, redondeando hacia abajo la multiplicación de el valor del pixel en la escala de grises por la constante previamente encontrada                                                                      #No hay problema con el resto de valores asi que los dejamos tal como están\n",
        "  return simbolos_ASCII[char]\n",
        "\n",
        "     #Lógica\n",
        "          #Rescalamos la imagen original\n",
        "relacion=alto/ancho                                                             #Hallamos la relación entre el alto y el ancho de la imagen original\n",
        "n_ancho=100                                                                    #Le damos un nuevo valor a la anchura para posteriormente calcular la altura, en este caso 100 pixeles\n",
        "n_alto=int(n_ancho*(relacion/2))                                                  #Calculamos el nuevo valor de la altura, hallando el valor entero de multiplicar el nuevo valor de la anchura, por la relación.(La relación la dividimos entre dos debido a que la altura de los caracteres es mayor máso menos dos veces a la anchura, si no hacemos esto, la imagen resultante dará la impresion de ser más alta que la original)\n",
        "rescalado=imagen.resize((n_ancho,n_alto))                                       #Damos nuevos valores de dimensiones a la imagen original y almacenamos esto en una variable\n",
        "rescalado=rescalado.convert('RGB')                                              #Convertimos el modo de la imagen a RGB, esto para evitar problemas con algunas imagenes png con fondo transparente, cuyo modo es RGBA\n",
        "pix=rescalado.load()                                                            #Cargamos nuevamente los datos de los píxeles de la imagen y los almacenamos en la variable pix2\n",
        "\n",
        "          #Convertimos los datos RGB de la imagen a una en Blanco y Negro\n",
        "for i in range(n_alto):\n",
        "  fila=''                                                                       #Creamos un ciclo que lea de arriba hacia abajo y de izquierda a derecha los datos de color de la imagen\n",
        "  for j in range(n_ancho):\n",
        "    R,G,B=pix[j,i]\n",
        "    g=int(R/3+G/3+B/3)                                                          #Para cada pixel toma los 3 valores RGB los divide cada uno entre 3 y los suma, bara obtener una variable g correspondiente a la escala de grises\n",
        "    pix[j,i]=(g,g,g)\n",
        "    texto.write(caracter(g))\n",
        "    fila+=caracter(g)\n",
        "  print(fila)                                                                     #Llamamos la funcion mencionada anteriormente, y escribimos progresivamente el simbolo correspondiente en el archivo de texto\n",
        "  texto.write('\\n')                                                             #Ponemos un salto de linea en el archivo de texto para dividir las filas\n",
        "\n",
        "rescalado.save('salida.jpg')                                                    #Guardamos la imagen rescalada y en Blanco y negro"
      ],
      "execution_count": 19,
      "outputs": [
        {
          "output_type": "stream",
          "name": "stdout",
          "text": [
            "Inserte el nombre de un archivo de imagen en una ruta válidaperrito.jpg\n",
            ".      ...     .......   .,,,,,.......,,,,,,,,,,,,,......,,,,,,,,,..........,:iiiillwwwwwllllliiiii:\n",
            "..    ...,..   ..........,,::,,....,,,,,,,,,,,,,,,,,,..,,,,,,....,,,,......,:iiiliiiiiiiiiiiiiii::::\n",
            ",,.....,,,,............,,,,,,......,,,,,,,..,,,,,,,,,,,,,,,,,,,,,,,,,,,,...,:iiiiiiiiiiiiiiiiiii::::\n",
            ",,,,..,,,,,,..........,,,,,..   .....,,,,.......,,,,,,.,,,,,,,,,,,,,,,,,...,:iiiiiiiiiiiii::i:ii::ii\n",
            ",,,....,,,,,,.........,,,,,.    .........................,,,,::::,,,,::,..,::iiiiiiiiii:::::::::::ii\n",
            ",,,.....,,,,..      .......                 ..............,,,,::::::lwwli:::iiiiiiiiii:::::::iiiiiii\n",
            "..,,....,,...      ......    \"     \"\"\"\"\"\"\"       ..........,,,:ilwwWWwwwwi:iiiiiiiii::::::::iiiiiiii\n",
            "...,........        ....          \"\"\"\"\"\"\"         ...,,,,,,,,:lWWWwwwlllwliiiiii::::::::,,::iiiiiiii\n",
            "...........                       \"\"\"\"\"           ...,,,,,,,lWWWwwlllllll:::::::::::,,:::::::iiiiiii\n",
            "............  ..   \"\"\" \"\"       \"\"\"\"\"\"\"           ......,,,lWwwwwliiiiiii::::::::::::::::::iiiiiiiii\n",
            ".,..............     \"\"\"\"\"\" .,. \"\"      \"\"\"\"         ....:wwwwllliiiiiii::::::::::iiiiiiiiiiiiiiiiii\n",
            ",,..............   \"\"\"\"\"\"\".llwwwi:::,..::::lwllli:,,.   ,wwwlliliiiiiii::::::iiiiiiiiiiiiiiiiiiiiiil\n",
            ",,........    ..          lwwwwwwwwlwwwwwlwwwlli:iiii:..lllllillliiiill::iiiiiiiiiiiiiiiiiiiiillllll\n",
            ",..              \"\"\"     ,llilllwlllwlllii::::::,,,.,i:lwllliilliiiiilliiiiiiiiiiiiiiiiiiiiillllllll\n",
            ",..  \"\"\"\"\"\"\"    \"\"\"\"  ...:i::llwwllwwwlii:i:..,:,,,,::illliiiiiiiiiilwwliiiiiiiiiiiiiiiiiiiiilllllll\n",
            "...  \"\"\"\"\"\"\"  .  \"\"\"    .ii:li:i:llii:,,:ii:,.,,::i::iwllli:ii::::ilwwwliiiiiiiiiiiiiiiiiiiiiiilllll\n",
            ",...  \"\"\"\"\"   .. \"\"\"\"\"\"  ,::i. :llll:.\" .,:::...,iiiilwwli:.,::::illwwliiiiiiiiiiiiiiiiiiiiiiiiiiiii\n",
            ",...  \"\"        \"\"\"\"\"\"\"\"  ,ililwwwwli:::::iii,.,,:illwwiii:::::illwwwwliiiiiiiiiiiiiliiiiiiiiiiiiiii\n",
            "...            \"\"\"\"\"\" \"\"  .ilwwlllwlii:iii:::,...,:ilwliiiiiiiiilwwwWwlllllllllllwwwwwliiiiiiiillwwl\n",
            "   .   .......   \"        .,wi    ,llliii:::,,..,,::iilli::::iiilwwWwwllwwwwwwwwwwWWwwwwlliiillwwWWw\n",
            "........,,,,...   .........iWi\";;\",illi, \",,,,,:::::::iii::::::ilwwWwllllllwwwwwwwwwwwwlllllllllwwww\n",
            ".,,,,,,,,,,,,.....,,,,,.. :wwl: \" .,,.,\"; ,.,,,::i:::::ii:::,,:ilwWWwliiiiiiiiiiliiilllllllliii:::ii\n",
            ",,,,,,,,,,,,,.....,,:,,.,:wwwll,. ..  \"\"   .,,,::::::illiiii::ilwWWWwliiiiiiiiiiiiiiiiiiliiiii::,,::\n",
            ":::::::::::,,,,,,,,:::,,:wwwwli,,,:,.\".. \" ..,,,::::iiwwlii::iiwWWWWwlliiiiiiiiiiiiiiiiiiiiiii:::::i\n",
            "llllllllllllllllllllliillwwlllll:..,.., ..  ..,::::iilwwwlii,::iwWWwwllliiiiiiiiiiiiiiiiiiiiiiiiiiii\n",
            "wwwwwwwwwwwwwwwwwwwwwwwwwwwlllii:,..,,. ...,...,,::ilwwllliii,::iwwwwwwwwlllllllllllllllwwllllllllll\n",
            "wwwwwwwwWWwwwwwwwwwwwwWWWwwwl::::::,,,...,..,,,..,:illwllliii:,:iiwwwwWWwwwwwwwwwwwwwwwwwwwwwwwwwwww\n",
            "wwwwwwwwwwwwwwwwwwwwwwwwwwwwlii::i:,,.....,.,,,,.,:illwlll:ii:.,:iilwwwwwwwwwwwwwwwwwwwwwwwwwwwwwwww\n",
            "llllllllllllllllllllllllwwwwlliiii::,,.,,,,,:,,:,:iilwwwwi::i:.,:::illllllllllllllllllllllllllllllll\n",
            "llllllllllllllllllllllllllwwliiiiii:::,,,:,,::,::::iillwwi,::.,::::illllllllllllllllllllllllllllllll\n",
            "llllllllllllllllliilllllllWwi:::,::::::,.,..,,.,,,::iwwwWw,:,.,:::iiwlllllllllllllllllllllllllllllll\n",
            "iiiiillllllllliliiiiiiiiilWWwi,,..,,,,,..  \"\".,:iiillwwwww:,.,,::iilwwllllllllllllilllllllllllllllll\n",
            "iiiiiiiiliiiiiiiiiiiiiiiilW\"Wl:........     ,lwwwlllllllll:..,,:::ilwwwiiiiiiiiiiiiiiiiiiiiiiiiiiili\n",
            "llllillllliillllllliiiillw\"\"Wl:,,,,      .:lwwwWwlllllill:. .,,:::iilwwliiiiiiiiiiiiiiiiiiiiiiiiiiii\n",
            "lllllllllllllllllllliillwW\"\"wwllii, ;\"...iwwwwWWwlllwwli,\"\"\" .,::::ilwwliiiilliiiiiiiilliiilllllllii\n",
            "llllllilllllliillllliiiiwW\"Wwwwwwi.\"\"\".,lWWWWwwwliiiwWli:. \"  .:iilllllliiiiiiiiiiiiiiiiiiiiiiiiiiii\n",
            "iiiliiiiiiiiiiiiiiiiiiiilwWwwwwwWw:..,:wWWWWWWwllilllllllli,...,:illllliiiiiiiiiiiiiliiiiiiiiiiiiiii\n",
            "liiiiiiiiiiiiiiiiiiiiliiilliillwWWwli:W\"WWwWWWw:illlllllllli,...,ii:lwiiiiiiiiiiiiiiiiiiiiiiiiiiiiii\n",
            "llliiliiiiiiiiiiiiiiiiiiiiiiilwWWwwliw\"\"WWWWWWi:illlliii:ii:. . .:,:lliiiiiiiiiiiiiiiiiiiiiiiiiiiiii\n",
            "illiiiiiiiiiiiiiiiiiiiiiiiiiilwwwwlllWW\"WWWWWWlillillii:iii::::.,,,iliiiilliiiilliiiiiiiiiiiiiiiiiii\n",
            "iliiiiiiiilliiiiiiiiiiiiiiiillilwwwliill:lwllllii::::iiilllllll::,illlliiiiiiiiiiililliiiiiiiiliiiii\n",
            "ii:iiiiiiiiiiiiiiiiiiiiiiiiiiii:ilwwlli::lwli:::,,::iiiiwwllllil: :ill:ii:iii:iiiiiiiiii::iii:::i::i\n",
            "iiiiiiii:iiiiii:i:::i:iiiiiiiiiiiiiii:iilwwlli::,::::iiilllliiii:.,iwliii:i::::i::i:iiiii::iii:ii:::\n",
            "::ii:ii:ii:ii:::iiii::iiii::iiiii:::iiiiiiilii::iilliii::iiiiiiii,,iww::::i:::ii:::::::ii::::iiii:::\n",
            ":,::::::,,::,,,::::::::::::::::::,,,::::,,:::lii:ill:,::,:,:,:,,:,,:il:,,::,::::::::,,,,:::::::,:::,\n",
            ":,:,,:::,,::,,:::,,:,,,:::::::,::,:,:,:,.,,,,:,::,,:,,,,.,...,..,,,,,.,,.,..,,,,.,,,,,.,,,,,,,,,,,,,\n",
            "::::::::::::::i::::::::::::i::::i::::,,::::::::,,,,,,,,,,,,,,,:,,,,,,,,,,,,,,::::,,,,:::,,::,,,,,:::\n",
            ":::i:::::::i:ii::::::::i::::::::::::::::::::::::::ii:::::::::ii:iiii::i::ii::::::::i:::::::::::i:ii:\n",
            ":::ii::::::::i:::::::iiii::ii:ii::i::::ii:ii::::ii:ii:::ii:::i::iiii:::::iiii:::::::::::,::::,i::iii\n",
            ":i::::i:::::iiii:i:::i:iii:::i:iii:::ii:ii:iiii:iiiii:::iiii::::ii:ii:i:::::ii:::::::::::i:i::::,:i:\n"
          ]
        }
      ]
    },
    {
      "cell_type": "markdown",
      "metadata": {
        "id": "wH-F_Z_pWyBm"
      },
      "source": [
        "###Código explicado y paso a paso"
      ]
    },
    {
      "cell_type": "markdown",
      "metadata": {
        "id": "qXdCi1oidmGr"
      },
      "source": [
        "####Librerías\n",
        "Importamos las librerías con las que trabajaremos, en este caso, usaré solo el módulo Image de la librería Pillow, que me permitirá obtener y modificar distintos datos de una imagen, y el módulo floor de la librería math, para hacer aproximaciones a numeros enteros en algunos calculos."
      ]
    },
    {
      "cell_type": "code",
      "metadata": {
        "colab": {
          "background_save": true
        },
        "id": "KMt5LkLJeVFC"
      },
      "source": [
        "from PIL import Image\n",
        "from math import floor"
      ],
      "execution_count": null,
      "outputs": []
    },
    {
      "cell_type": "markdown",
      "metadata": {
        "id": "A89KRzr9ea6I"
      },
      "source": [
        "####Datos\n",
        "Definimos una serie de datos, entre ellos:  \n",
        "\n",
        "*   los simbolos que vamos a usar en la composición de las imágenes en una lista,\n",
        "*   la imagen a usar la cual obtendremos pidiendole un input al usuario y leyendo los datos con la funcion open del modulo Image de la librería pillow,\n",
        "*   un archivo de texto creado en modo 'w' con la función nativa open(*el modo 'w' nos permite crear el archivo de texto si no existe previamente y sobrescribir los datos si ya existía*),\n",
        "*   el ancho y alto de la imagen y,\n",
        "*   una constante que calcule el valor de los intervalos en la lista creada previamente, referente a los pixeles en la escala de grises(*se divide entre 255 ya que un pixel en escala de grises está dado por un número entre 0 y 255*)"
      ]
    },
    {
      "cell_type": "code",
      "metadata": {
        "id": "qGQNrZUQebI9"
      },
      "source": [
        "simbolos_ASCII=['.',':',';','+','*','?','%','W','#','@']\n",
        "destino=input('Inserte el nombre  de un archivo de imagen en una ruta válida')\n",
        "imagen=Image.open(destino)\n",
        "texto=open('ASCII_ART.txt','w')\n",
        "ancho,alto=imagen.size\n",
        "constante=(len(simbolos_ASCII))/255"
      ],
      "execution_count": null,
      "outputs": []
    },
    {
      "cell_type": "markdown",
      "metadata": {
        "id": "AX-lZ5bw7xUd"
      },
      "source": [
        "####Funciones\n",
        "Definimos una función que usaremos posteriormente, para dar a cada pixel un simbolo de la lista, aproximando hacia abajo la multiplicación del valor del pixel por la variable 'constante'.\n",
        "\n",
        "Añadido, debemos crear un condicional debido a que, en el caso de que el resultado de la operación nos de 10, se aproximara a 10, y este saldrá de el indice de la función, así que, para solucionarlo, establecemos que cuando la operación sea igual a 10, le daremos el valor de 9"
      ]
    },
    {
      "cell_type": "code",
      "metadata": {
        "id": "y8WuMTDY716v"
      },
      "source": [
        "def caracter(g):\n",
        "  char=floor(g*constante)\n",
        "  if char==10:\n",
        "    return simbolos_ASCII[9]\n",
        "  else:\n",
        "    return simbolos_ASCII[char]"
      ],
      "execution_count": null,
      "outputs": []
    },
    {
      "cell_type": "markdown",
      "metadata": {
        "id": "w4VYuGyU9SCg"
      },
      "source": [
        "####Lógica"
      ]
    },
    {
      "cell_type": "markdown",
      "metadata": {
        "id": "YrtBn75t9V7o"
      },
      "source": [
        "#####**Rescalado de la imagen original**\n",
        "En primer lugar obtenemos la relación que existe entre el ancho y el alto de la imagen original y almacenamos este dato en la variable 'relacion'. Luego damos un valor a la nueva anchura, este puede variar pero en este caso será 100 (Hace referencia a 100 pixeles y en el texto a 100 columnas). Posteriormente calculamos la nueva altura de la imagen multiplicando la nueva anchura por la relacion (la relacion la dividimos en dos ya que la altura de un caracter es mas o menos dos veces su altura, si no hacemos esto la imagen quedará estirada).\n",
        "\n",
        "Ahora, usamos la funcion resize para establecer las nuevas dimensiones de la imagen, y establecemos el modo de la imagen obtenida en RGB (*esto para evitar errores cuando la imagen es en png con transparencia cuyo modo es RGBA*).\n",
        "\n",
        "Por último, obtenemos los datos de los pixeles de la nueva imagen y los almacenamos en la variable pix."
      ]
    },
    {
      "cell_type": "code",
      "metadata": {
        "id": "biHdMGrj9SRJ"
      },
      "source": [
        "relacion=alto/ancho\n",
        "n_ancho=100\n",
        "n_alto=int(n_ancho*(relacion/2))\n",
        "rescalado=imagen.resize((n_ancho,n_alto))\n",
        "rescalado=rescalado.convert('RGB')\n",
        "pix=rescalado.load()"
      ],
      "execution_count": null,
      "outputs": []
    },
    {
      "cell_type": "markdown",
      "metadata": {
        "id": "CnPo-_8t_iha"
      },
      "source": [
        "#####**Convertimos la imagen a escala de grises, y obtenemos el simbolo para cada pixel**\n",
        "Creamos un ciclo que lea la imagen de arriba hacia abajo y de izquierda a derecha, de esta forma examinamos cada pixel y obtenemos los valores RGB de la imagen, luego promediamos los valores de RGB para obtener un único valor en escala de gris y almacenamos este valor en una variable 'g'.\n",
        "\n",
        "Después, llamamos a la función que previamente creamos dandole como parametro el valor de g, lo que nos devolverá un simbolo que escribiremos en el archivo de texto usando la función nativa para escribir archivos (write).\n",
        "\n",
        "Al finalizar la lectura de la fila ponemos un salto de linea en el texto y continuamos."
      ]
    },
    {
      "cell_type": "code",
      "metadata": {
        "id": "cgUs-aj7_taI"
      },
      "source": [
        "for i in range(n_alto):\n",
        "  for j in range(n_ancho):\n",
        "    R,G,B=pix[j,i]\n",
        "    g=int(R/3+G/3+B/3)\n",
        "    pix[j,i]=(g,g,g)\n",
        "    texto.write(caracter(g))\n",
        "  texto.write('\\n')"
      ],
      "execution_count": null,
      "outputs": []
    },
    {
      "cell_type": "markdown",
      "metadata": {
        "id": "HSzfUgCiBTEM"
      },
      "source": [
        "####Para finalizar y, a pesar de que esto no afecta directamente el programa... para demostrar el rescalado y filtro en la imagen, guardamos el archivo de imagen editado como un archivo jpg, que se podrá visualizar navegando en la ventana de archivos, se encontrá con el nombre de salida.jpg"
      ]
    },
    {
      "cell_type": "code",
      "metadata": {
        "id": "90Eb5-v2Bz2i"
      },
      "source": [
        "rescalado.save('salida.jpg')"
      ],
      "execution_count": null,
      "outputs": []
    }
  ]
}